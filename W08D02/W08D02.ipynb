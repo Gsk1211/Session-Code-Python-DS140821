{
 "cells": [
  {
   "cell_type": "code",
   "execution_count": null,
   "id": "a26970d8",
   "metadata": {},
   "outputs": [],
   "source": [
    "JSON: Javascript Object Notation\n",
    "    \n",
    "->Light weight file used for data interchange\n",
    "->Generally involve nested structure of list and dict"
   ]
  },
  {
   "cell_type": "code",
   "execution_count": null,
   "id": "0f70d55c",
   "metadata": {},
   "outputs": [],
   "source": [
    "{Key: Value} and here:-\n",
    "    \n",
    "Values can be:-\n",
    "    String\n",
    "    Number\n",
    "    Another Json Object\n",
    "    Array(list)\n",
    "    bool\n",
    "    null(None)"
   ]
  },
  {
   "cell_type": "code",
   "execution_count": 1,
   "id": "f736b6e3",
   "metadata": {},
   "outputs": [],
   "source": [
    "fp = open('example.json','r')\n",
    "content = fp.read()"
   ]
  },
  {
   "cell_type": "code",
   "execution_count": 2,
   "id": "29fa7cde",
   "metadata": {},
   "outputs": [],
   "source": [
    "content = fp.read()"
   ]
  },
  {
   "cell_type": "code",
   "execution_count": 3,
   "id": "079fbd22",
   "metadata": {},
   "outputs": [
    {
     "data": {
      "text/plain": [
       "str"
      ]
     },
     "execution_count": 3,
     "metadata": {},
     "output_type": "execute_result"
    }
   ],
   "source": [
    "type(content)"
   ]
  },
  {
   "cell_type": "code",
   "execution_count": 4,
   "id": "848beea6",
   "metadata": {},
   "outputs": [
    {
     "name": "stdout",
     "output_type": "stream",
     "text": [
      "{\"quiz\": {\n",
      "\t\t\"sport\": {\n",
      "\t\t\t\"q1\": {\n",
      "\t\t\t\t\"question\": \"Which one is correct team name in NBA?\",\n",
      "\t\t\t\t\"options\": [\n",
      "\t\t\t\t\t\"New York Bulls\",\n",
      "\t\t\t\t\t\"Los Angeles Kings\",\n",
      "\t\t\t\t\t\"Golden State Warriros\",\n",
      "\t\t\t\t\t\"Huston Rocket\"\n",
      "\t\t\t\t],\n",
      "\t\t\t\t\"answer\": \"Huston Rocket\"\n",
      "\t\t\t},\n",
      "\t\t\t\"q2\": {\n",
      "\t\t\t\t\"question\": \" Which is National Sports of India?\",\n",
      "\t\t\t\t\"options\": [\"Cricket\",\n",
      "\t\t\t\t\t\t\t \"Hockey\",\n",
      "\t\t\t\t\t\t\t \"Badminton\",\n",
      "\t\t\t\t\t\t\t \"Ice Hockey\"],\n",
      "\t\t\t\t\"answer\": \"Hockey\"\n",
      "\t\t\t}\n",
      "\t\t},\n",
      "\t\t\"maths\": {\n",
      "\t\t\t\"q1\": {\n",
      "\t\t\t\t\"question\": \"5 + 7 = ?\",\n",
      "\t\t\t\t\"options\": [\n",
      "\t\t\t\t\t\"10\",\n",
      "\t\t\t\t\t\"11\",\n",
      "\t\t\t\t\t\"12\",\n",
      "\t\t\t\t\t\"13\"\n",
      "\t\t\t\t],\n",
      "\t\t\t\t\"answer\": \"12\"\n",
      "\t\t\t},\n",
      "\t\t\t\"q2\": {\n",
      "\t\t\t\t\"question\": \"12 - 8 = ?\",\n",
      "\t\t\t\t\"options\": [\n",
      "\t\t\t\t\t\"1\",\n",
      "\t\t\t\t\t\"2\",\n",
      "\t\t\t\t\t\"3\",\n",
      "\t\t\t\t\t\"4\"\n",
      "\t\t\t\t],\n",
      "\t\t\t\t\"answer\": \"4\"\n",
      "\t\t\t}\n",
      "\t\t},\n",
      "\n",
      "\t\t\"Python\": {\n",
      "\t\t\t\"q1\": {\n",
      "\t\t\t\t\"question\": \"Is it legal to do a,b = b,a in Python, if yes than what is it?\",\n",
      "\t\t\t\t\"options\": [\"Not Allowed\",\n",
      "\t\t\t\t\t\t\t\"Yes, Tuple Unpacking (Also Nos are getting swapping)\",\n",
      "\t\t\t\t\t\t\t\"Yes Rational Rendering\"],\n",
      "\t\t\t\t\"answer\": \"Yes, Tuple Unpacking (Also Nos are getting swapping)\"\n",
      "\t\t\t}\n",
      "\t\t}\n",
      "\t}\n",
      "}\n"
     ]
    }
   ],
   "source": [
    "print(content)"
   ]
  },
  {
   "cell_type": "code",
   "execution_count": null,
   "id": "441b48f5",
   "metadata": {},
   "outputs": [],
   "source": [
    "# json module : helps us in json files."
   ]
  },
  {
   "cell_type": "code",
   "execution_count": 5,
   "id": "97e67bef",
   "metadata": {},
   "outputs": [],
   "source": [
    "import json"
   ]
  },
  {
   "cell_type": "code",
   "execution_count": 6,
   "id": "e2724987",
   "metadata": {},
   "outputs": [],
   "source": [
    "dict_content = json.loads(content)"
   ]
  },
  {
   "cell_type": "code",
   "execution_count": 7,
   "id": "f543a6d5",
   "metadata": {},
   "outputs": [
    {
     "data": {
      "text/plain": [
       "dict"
      ]
     },
     "execution_count": 7,
     "metadata": {},
     "output_type": "execute_result"
    }
   ],
   "source": [
    "type(dict_content)"
   ]
  },
  {
   "cell_type": "code",
   "execution_count": 8,
   "id": "608632d2",
   "metadata": {},
   "outputs": [
    {
     "data": {
      "text/plain": [
       "dict_keys(['quiz'])"
      ]
     },
     "execution_count": 8,
     "metadata": {},
     "output_type": "execute_result"
    }
   ],
   "source": [
    "dict_content.keys()"
   ]
  },
  {
   "cell_type": "code",
   "execution_count": 9,
   "id": "291fd4f6",
   "metadata": {},
   "outputs": [
    {
     "data": {
      "text/plain": [
       "dict_keys(['sport', 'maths', 'Python'])"
      ]
     },
     "execution_count": 9,
     "metadata": {},
     "output_type": "execute_result"
    }
   ],
   "source": [
    "dict_content['quiz'].keys()"
   ]
  },
  {
   "cell_type": "code",
   "execution_count": 10,
   "id": "b016b68f",
   "metadata": {},
   "outputs": [
    {
     "data": {
      "text/plain": [
       "{'q1': {'question': 'Is it legal to do a,b = b,a in Python, if yes than what is it?',\n",
       "  'options': ['Not Allowed',\n",
       "   'Yes, Tuple Unpacking (Also Nos are getting swapping)',\n",
       "   'Yes Rational Rendering'],\n",
       "  'answer': 'Yes, Tuple Unpacking (Also Nos are getting swapping)'}}"
      ]
     },
     "execution_count": 10,
     "metadata": {},
     "output_type": "execute_result"
    }
   ],
   "source": [
    "dict_content['quiz']['Python']"
   ]
  },
  {
   "cell_type": "code",
   "execution_count": 11,
   "id": "06d2bb95",
   "metadata": {},
   "outputs": [
    {
     "data": {
      "text/plain": [
       "dict_keys(['q1'])"
      ]
     },
     "execution_count": 11,
     "metadata": {},
     "output_type": "execute_result"
    }
   ],
   "source": [
    "dict_content['quiz']['Python'].keys()"
   ]
  },
  {
   "cell_type": "code",
   "execution_count": 12,
   "id": "258e4b82",
   "metadata": {},
   "outputs": [
    {
     "data": {
      "text/plain": [
       "{'question': 'Is it legal to do a,b = b,a in Python, if yes than what is it?',\n",
       " 'options': ['Not Allowed',\n",
       "  'Yes, Tuple Unpacking (Also Nos are getting swapping)',\n",
       "  'Yes Rational Rendering'],\n",
       " 'answer': 'Yes, Tuple Unpacking (Also Nos are getting swapping)'}"
      ]
     },
     "execution_count": 12,
     "metadata": {},
     "output_type": "execute_result"
    }
   ],
   "source": [
    "dict_content['quiz']['Python']['q1']"
   ]
  },
  {
   "cell_type": "code",
   "execution_count": 13,
   "id": "b1e2701d",
   "metadata": {},
   "outputs": [
    {
     "data": {
      "text/plain": [
       "dict_keys(['question', 'options', 'answer'])"
      ]
     },
     "execution_count": 13,
     "metadata": {},
     "output_type": "execute_result"
    }
   ],
   "source": [
    "dict_content['quiz']['Python']['q1'].keys()"
   ]
  },
  {
   "cell_type": "code",
   "execution_count": 14,
   "id": "fd20c250",
   "metadata": {},
   "outputs": [
    {
     "data": {
      "text/plain": [
       "'Is it legal to do a,b = b,a in Python, if yes than what is it?'"
      ]
     },
     "execution_count": 14,
     "metadata": {},
     "output_type": "execute_result"
    }
   ],
   "source": [
    "dict_content['quiz']['Python']['q1']['question']"
   ]
  },
  {
   "cell_type": "code",
   "execution_count": 15,
   "id": "afac1791",
   "metadata": {},
   "outputs": [
    {
     "data": {
      "text/plain": [
       "['Not Allowed',\n",
       " 'Yes, Tuple Unpacking (Also Nos are getting swapping)',\n",
       " 'Yes Rational Rendering']"
      ]
     },
     "execution_count": 15,
     "metadata": {},
     "output_type": "execute_result"
    }
   ],
   "source": [
    "dict_content['quiz']['Python']['q1']['options']"
   ]
  },
  {
   "cell_type": "code",
   "execution_count": 16,
   "id": "525d0f80",
   "metadata": {},
   "outputs": [
    {
     "data": {
      "text/plain": [
       "'Yes, Tuple Unpacking (Also Nos are getting swapping)'"
      ]
     },
     "execution_count": 16,
     "metadata": {},
     "output_type": "execute_result"
    }
   ],
   "source": [
    "dict_content['quiz']['Python']['q1']['answer']"
   ]
  },
  {
   "cell_type": "code",
   "execution_count": null,
   "id": "f3e346f5",
   "metadata": {},
   "outputs": [],
   "source": [
    "Moto: Output should be a Quiz Paper for Students\n",
    "    \n",
    "Python Quiz\n",
    "1.) Is it legal to do a,b = b,a in Python, if yes than what is it?\n",
    "a)Not Allowed\n",
    "b)Yes, Tuple Unpacking (Also Nos are getting swapping)\n",
    "c)Yes Rational Rendering\n",
    "\n",
    "2.) blah blah\n",
    "options\n",
    "\n",
    "3.) and so on...\n",
    "\n",
    "It should be generic in nature.It means we can any number of questions\n",
    "and quizs but this automatically should handle all the cases."
   ]
  },
  {
   "cell_type": "code",
   "execution_count": 17,
   "id": "1a2c440c",
   "metadata": {},
   "outputs": [],
   "source": [
    "quiz_data = dict_content['quiz']"
   ]
  },
  {
   "cell_type": "code",
   "execution_count": 35,
   "id": "8ba4840f",
   "metadata": {},
   "outputs": [
    {
     "name": "stdout",
     "output_type": "stream",
     "text": [
      "sport\n",
      "==============\n",
      "1) Which one is correct team name in NBA?\n",
      "a. New York Bulls\n",
      "b. Los Angeles Kings\n",
      "c. Golden State Warriros\n",
      "d. Huston Rocket\n",
      "2)  Which is National Sports of India?\n",
      "a. Cricket\n",
      "b. Hockey\n",
      "c. Badminton\n",
      "d. Ice Hockey\n",
      "\n",
      "\n",
      "maths\n",
      "==============\n",
      "1) 5 + 7 = ?\n",
      "a. 10\n",
      "b. 11\n",
      "c. 12\n",
      "d. 13\n",
      "2) 12 - 8 = ?\n",
      "a. 1\n",
      "b. 2\n",
      "c. 3\n",
      "d. 4\n",
      "\n",
      "\n",
      "Python\n",
      "==============\n",
      "1) Is it legal to do a,b = b,a in Python, if yes than what is it?\n",
      "a. Not Allowed\n",
      "b. Yes, Tuple Unpacking (Also Nos are getting swapping)\n",
      "c. Yes Rational Rendering\n",
      "2) Is None Falsy?\n",
      "a. True\n",
      "b. False\n",
      "\n",
      "\n",
      "Data Science\n",
      "==============\n",
      "1) Why Visualization is important before modelling?\n",
      "a. To find various things like Corelation between attributes,etc\n",
      "b. To Enjoy the Art\n",
      "c. Because you can not apply ML without it\n",
      "\n",
      "\n"
     ]
    }
   ],
   "source": [
    "fp = open('example.json','r')\n",
    "content = fp.read()\n",
    "dict_content = json.loads(content)\n",
    "quiz_data = dict_content['quiz']\n",
    "for type_of_sub in quiz_data:\n",
    "    print(type_of_sub)\n",
    "    print('==============')\n",
    "    question_counter = 1\n",
    "    for question_no in quiz_data[type_of_sub]:\n",
    "        print(str(question_counter)+')',quiz_data[type_of_sub][question_no]['question'])\n",
    "        question_counter+=1\n",
    "        option_counter = 97\n",
    "        for option in quiz_data[type_of_sub][question_no]['options']:\n",
    "            print(chr(option_counter)+'.',option)\n",
    "            option_counter+=1\n",
    "    print('\\n')"
   ]
  },
  {
   "cell_type": "code",
   "execution_count": 36,
   "id": "e005ab5c",
   "metadata": {},
   "outputs": [],
   "source": [
    "dict1 = {'apple':4,'mango':5}\n",
    "dump_data = json.dumps(dict1)\n",
    "fp = open('fruits.json','w+')\n",
    "fp.write(dump_data)\n",
    "fp.close()"
   ]
  },
  {
   "cell_type": "markdown",
   "id": "abf7b8fb",
   "metadata": {},
   "source": [
    "# XML Files"
   ]
  },
  {
   "cell_type": "code",
   "execution_count": null,
   "id": "fb165d0c",
   "metadata": {},
   "outputs": [],
   "source": [
    "Extensible Markup Language\n",
    "- Used for Sending and Receiving Data\n",
    "- They look like html, but they don't have predefined tags like dic,a,s,h,etc\n",
    "- You make your own tags. You make tags to specify what data you are \n",
    "storing."
   ]
  },
  {
   "cell_type": "code",
   "execution_count": null,
   "id": "56611c9e",
   "metadata": {},
   "outputs": [],
   "source": [
    "json=> {'apple':4,'mango':5}\n",
    "\n",
    "<fruits>\n",
    "<fruit>\n",
    "<name>apple</name>\n",
    "<count>4</count>\n",
    "</fruit>\n",
    "<fruit>\n",
    "<name>mango</name>\n",
    "<count>5</count>\n",
    "</fruit>\n",
    "</fruits>"
   ]
  },
  {
   "cell_type": "code",
   "execution_count": null,
   "id": "747ea1a2",
   "metadata": {},
   "outputs": [],
   "source": [
    "Rules:\n",
    "    1) Opening and Closing tags should be same\n",
    "    2) Root tag\n",
    "    3) Case Sensitive"
   ]
  },
  {
   "cell_type": "code",
   "execution_count": 37,
   "id": "1dde1e42",
   "metadata": {},
   "outputs": [
    {
     "ename": "SyntaxError",
     "evalue": "invalid syntax (742848618.py, line 3)",
     "output_type": "error",
     "traceback": [
      "\u001b[0;36m  File \u001b[0;32m\"/var/folders/9s/j9tqx4617_jg3hnd11b6g4080000gn/T/ipykernel_6156/742848618.py\"\u001b[0;36m, line \u001b[0;32m3\u001b[0m\n\u001b[0;31m    pip install beautifulsoup4\u001b[0m\n\u001b[0m        ^\u001b[0m\n\u001b[0;31mSyntaxError\u001b[0m\u001b[0;31m:\u001b[0m invalid syntax\n"
     ]
    }
   ],
   "source": [
    "# beautifulsoup is a package which contains parsers for html,xml and \n",
    "# other similar files.\n",
    "pip install beautifulsoup4"
   ]
  },
  {
   "cell_type": "code",
   "execution_count": 38,
   "id": "d7d62e76",
   "metadata": {},
   "outputs": [
    {
     "name": "stdout",
     "output_type": "stream",
     "text": [
      "Defaulting to user installation because normal site-packages is not writeable\n",
      "Collecting beautifulsoup4\n",
      "  Downloading beautifulsoup4-4.10.0-py3-none-any.whl (97 kB)\n",
      "\u001b[K     |████████████████████████████████| 97 kB 992 kB/s eta 0:00:01\n",
      "\u001b[?25hCollecting soupsieve>1.2\n",
      "  Downloading soupsieve-2.2.1-py3-none-any.whl (33 kB)\n",
      "Installing collected packages: soupsieve, beautifulsoup4\n",
      "Successfully installed beautifulsoup4-4.10.0 soupsieve-2.2.1\n",
      "\u001b[33mWARNING: You are using pip version 20.2.3; however, version 21.2.4 is available.\n",
      "You should consider upgrading via the '/Library/Developer/CommandLineTools/usr/bin/python3 -m pip install --upgrade pip' command.\u001b[0m\n",
      "Note: you may need to restart the kernel to use updated packages.\n"
     ]
    }
   ],
   "source": [
    "pip install beautifulsoup4"
   ]
  },
  {
   "cell_type": "code",
   "execution_count": 39,
   "id": "39d28493",
   "metadata": {},
   "outputs": [],
   "source": [
    "from bs4 import BeautifulSoup"
   ]
  },
  {
   "cell_type": "code",
   "execution_count": 40,
   "id": "e15955c9",
   "metadata": {},
   "outputs": [],
   "source": [
    "with open('test_file.xml','r') as fp:\n",
    "    soup = BeautifulSoup(fp,'html.parser')"
   ]
  },
  {
   "cell_type": "code",
   "execution_count": 41,
   "id": "202ca4cc",
   "metadata": {},
   "outputs": [
    {
     "data": {
      "text/plain": [
       "<breakfast_menu>\n",
       "<food>\n",
       "<name>Belgian Waffles</name>\n",
       "<price>$5.95</price>\n",
       "<description>Two of our famous Belgian Waffles with plenty of real maple syrup</description>\n",
       "<calories>650</calories>\n",
       "</food>\n",
       "<food>\n",
       "<name>Strawberry Belgian Waffles</name>\n",
       "<price>$7.95</price>\n",
       "<description>Light Belgian waffles covered with strawberries and whipped cream</description>\n",
       "<calories>900</calories>\n",
       "</food>\n",
       "<food>\n",
       "<name>Berry-Berry Belgian Waffles</name>\n",
       "<price>$8.95</price>\n",
       "<description>Light Belgian waffles covered with an assortment of fresh berries and whipped cream</description>\n",
       "<calories>900</calories>\n",
       "</food>\n",
       "<food>\n",
       "<name>French Toast</name>\n",
       "<price>$4.50</price>\n",
       "<description>Thick slices made from our homemade sourdough bread</description>\n",
       "<calories>600</calories>\n",
       "</food>\n",
       "<food>\n",
       "<name>Homestyle Breakfast</name>\n",
       "<price>$6.95</price>\n",
       "<description>Two eggs, bacon or sausage, toast, and our ever-popular hash browns</description>\n",
       "<calories>950</calories>\n",
       "</food>\n",
       "</breakfast_menu>"
      ]
     },
     "execution_count": 41,
     "metadata": {},
     "output_type": "execute_result"
    }
   ],
   "source": [
    "soup"
   ]
  },
  {
   "cell_type": "code",
   "execution_count": 42,
   "id": "0a9ba0e5",
   "metadata": {},
   "outputs": [
    {
     "data": {
      "text/plain": [
       "bs4.BeautifulSoup"
      ]
     },
     "execution_count": 42,
     "metadata": {},
     "output_type": "execute_result"
    }
   ],
   "source": [
    "type(soup)"
   ]
  },
  {
   "cell_type": "code",
   "execution_count": 43,
   "id": "01a9d120",
   "metadata": {},
   "outputs": [
    {
     "data": {
      "text/plain": [
       "[<food>\n",
       " <name>Belgian Waffles</name>\n",
       " <price>$5.95</price>\n",
       " <description>Two of our famous Belgian Waffles with plenty of real maple syrup</description>\n",
       " <calories>650</calories>\n",
       " </food>,\n",
       " <food>\n",
       " <name>Strawberry Belgian Waffles</name>\n",
       " <price>$7.95</price>\n",
       " <description>Light Belgian waffles covered with strawberries and whipped cream</description>\n",
       " <calories>900</calories>\n",
       " </food>,\n",
       " <food>\n",
       " <name>Berry-Berry Belgian Waffles</name>\n",
       " <price>$8.95</price>\n",
       " <description>Light Belgian waffles covered with an assortment of fresh berries and whipped cream</description>\n",
       " <calories>900</calories>\n",
       " </food>,\n",
       " <food>\n",
       " <name>French Toast</name>\n",
       " <price>$4.50</price>\n",
       " <description>Thick slices made from our homemade sourdough bread</description>\n",
       " <calories>600</calories>\n",
       " </food>,\n",
       " <food>\n",
       " <name>Homestyle Breakfast</name>\n",
       " <price>$6.95</price>\n",
       " <description>Two eggs, bacon or sausage, toast, and our ever-popular hash browns</description>\n",
       " <calories>950</calories>\n",
       " </food>]"
      ]
     },
     "execution_count": 43,
     "metadata": {},
     "output_type": "execute_result"
    }
   ],
   "source": [
    "soup.find_all('food')"
   ]
  },
  {
   "cell_type": "code",
   "execution_count": 44,
   "id": "51ec7435",
   "metadata": {},
   "outputs": [],
   "source": [
    "food_list = soup.find_all('food')"
   ]
  },
  {
   "cell_type": "code",
   "execution_count": 46,
   "id": "ed3f7a67",
   "metadata": {},
   "outputs": [],
   "source": [
    "food = food_list[0]"
   ]
  },
  {
   "cell_type": "code",
   "execution_count": 48,
   "id": "10cf30a3",
   "metadata": {},
   "outputs": [
    {
     "data": {
      "text/plain": [
       "'Belgian Waffles'"
      ]
     },
     "execution_count": 48,
     "metadata": {},
     "output_type": "execute_result"
    }
   ],
   "source": [
    "food.find('name').text"
   ]
  },
  {
   "cell_type": "code",
   "execution_count": 51,
   "id": "f46714a6",
   "metadata": {},
   "outputs": [
    {
     "name": "stdout",
     "output_type": "stream",
     "text": [
      "------Waffles ka Dhaba-------\n",
      "\n",
      "\n",
      "Belgian Waffles $5.95\n",
      "Strawberry Belgian Waffles $7.95\n",
      "Berry-Berry Belgian Waffles $8.95\n",
      "French Toast $4.50\n",
      "Homestyle Breakfast $6.95\n"
     ]
    }
   ],
   "source": [
    "print('------Waffles ka Dhaba-------')\n",
    "print('\\n')\n",
    "food_list = soup.find_all('food')\n",
    "for food in food_list:\n",
    "    print(food.find('name').text,food.find('price').text)"
   ]
  },
  {
   "cell_type": "code",
   "execution_count": 52,
   "id": "3ace9cef",
   "metadata": {},
   "outputs": [],
   "source": [
    "# CSV Files\n",
    "\n",
    "Comma Separated Values"
   ]
  },
  {
   "cell_type": "code",
   "execution_count": null,
   "id": "4a0e563f",
   "metadata": {},
   "outputs": [],
   "source": [
    "- They are important to store the data in a table like format.\n",
    "- We can make a table directly from a csv file using pandas, and many \n",
    "other libraries.\n",
    "- excel,xlsx, spreadsheets files are similar to csv and store the \n",
    "tabular data.\n",
    "- Generally Top first line contains the name of the columns or heading.\n",
    "- They are convenient way to export data from spreadsheets and databases.\n",
    "- csv files are created by programs that handle huge amount of data.\n",
    "\n",
    "- they are easy to import and use.\n",
    "- we often use csv files to store data that will be imported into python\n",
    "and later Machine learning will be applied on it."
   ]
  },
  {
   "cell_type": "code",
   "execution_count": 53,
   "id": "b77fe4bd",
   "metadata": {},
   "outputs": [],
   "source": [
    "import csv"
   ]
  },
  {
   "cell_type": "code",
   "execution_count": 54,
   "id": "feeb7065",
   "metadata": {},
   "outputs": [
    {
     "name": "stdout",
     "output_type": "stream",
     "text": [
      "<class '_csv.reader'>\n",
      "['name', 'department', 'birthday month']\n",
      "['John Smith', 'Accounting', 'November']\n",
      "['Erica Meyers', 'IT', 'March']\n",
      "['Vishal Gupta', 'Comp. Sci', 'Feb']\n"
     ]
    }
   ],
   "source": [
    "with open('test.txt') as fp:\n",
    "    csv_reader = csv.reader(fp,delimiter=',')\n",
    "    print(type(csv_reader))\n",
    "    for row in csv_reader:\n",
    "        print(row)"
   ]
  },
  {
   "cell_type": "code",
   "execution_count": 57,
   "id": "e795fca3",
   "metadata": {},
   "outputs": [
    {
     "name": "stdout",
     "output_type": "stream",
     "text": [
      "Food Name Price\n",
      "Belgian Waffles $5.95\n",
      "Strawberry Belgian Waffles $7.95\n",
      "Berry-Berry Belgian Waffles $8.95\n",
      "French Toast $4.50\n",
      "Homestyle Breakfast $6.95\n"
     ]
    }
   ],
   "source": [
    "with open('test2.txt') as fp:\n",
    "    csv_reader = csv.reader(fp,delimiter=',')\n",
    "    for row in csv_reader:\n",
    "        print(row[0],row[1])"
   ]
  },
  {
   "cell_type": "code",
   "execution_count": null,
   "id": "d8b4cf6b",
   "metadata": {},
   "outputs": [],
   "source": []
  }
 ],
 "metadata": {
  "kernelspec": {
   "display_name": "Python 3 (ipykernel)",
   "language": "python",
   "name": "python3"
  },
  "language_info": {
   "codemirror_mode": {
    "name": "ipython",
    "version": 3
   },
   "file_extension": ".py",
   "mimetype": "text/x-python",
   "name": "python",
   "nbconvert_exporter": "python",
   "pygments_lexer": "ipython3",
   "version": "3.8.9"
  }
 },
 "nbformat": 4,
 "nbformat_minor": 5
}

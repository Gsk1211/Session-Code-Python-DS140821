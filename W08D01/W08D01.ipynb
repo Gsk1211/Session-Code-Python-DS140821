{
 "cells": [
  {
   "cell_type": "code",
   "execution_count": null,
   "id": "3de068a8",
   "metadata": {},
   "outputs": [],
   "source": [
    "Errors: Program not giving desirable output\n",
    "    \n",
    "    Types:\n",
    "        1) Syntax Errors: Related to syntax\n",
    "        2) Exceptions or Runtime Errors"
   ]
  },
  {
   "cell_type": "code",
   "execution_count": 4,
   "id": "0eeeade6",
   "metadata": {},
   "outputs": [
    {
     "ename": "SyntaxError",
     "evalue": "invalid syntax (3964378094.py, line 1)",
     "output_type": "error",
     "traceback": [
      "\u001b[0;36m  File \u001b[0;32m\"/var/folders/9s/j9tqx4617_jg3hnd11b6g4080000gn/T/ipykernel_2845/3964378094.py\"\u001b[0;36m, line \u001b[0;32m1\u001b[0m\n\u001b[0;31m    for i in range(5)\u001b[0m\n\u001b[0m                     ^\u001b[0m\n\u001b[0;31mSyntaxError\u001b[0m\u001b[0;31m:\u001b[0m invalid syntax\n"
     ]
    }
   ],
   "source": [
    "for i in range(5)\n",
    "    print(i)\n",
    "    \n",
    "# We forgot to use colon after range fun (:)"
   ]
  },
  {
   "cell_type": "code",
   "execution_count": 5,
   "id": "67de97a9",
   "metadata": {},
   "outputs": [
    {
     "name": "stdout",
     "output_type": "stream",
     "text": [
      "0\n",
      "1\n",
      "2\n",
      "3\n",
      "4\n"
     ]
    }
   ],
   "source": [
    "for i in range(5):\n",
    "    print(i)"
   ]
  },
  {
   "cell_type": "code",
   "execution_count": 6,
   "id": "cd147a4d",
   "metadata": {},
   "outputs": [
    {
     "ename": "SyntaxError",
     "evalue": "invalid syntax (4110802630.py, line 1)",
     "output_type": "error",
     "traceback": [
      "\u001b[0;36m  File \u001b[0;32m\"/var/folders/9s/j9tqx4617_jg3hnd11b6g4080000gn/T/ipykernel_2845/4110802630.py\"\u001b[0;36m, line \u001b[0;32m1\u001b[0m\n\u001b[0;31m    if\u001b[0m\n\u001b[0m      ^\u001b[0m\n\u001b[0;31mSyntaxError\u001b[0m\u001b[0;31m:\u001b[0m invalid syntax\n"
     ]
    }
   ],
   "source": [
    "if"
   ]
  },
  {
   "cell_type": "code",
   "execution_count": 7,
   "id": "cf6badf8",
   "metadata": {},
   "outputs": [
    {
     "name": "stdout",
     "output_type": "stream",
     "text": [
      "apple\n",
      "mango\n",
      "banana\n",
      "kiwi\n"
     ]
    },
    {
     "ename": "IndexError",
     "evalue": "list index out of range",
     "output_type": "error",
     "traceback": [
      "\u001b[0;31m---------------------------------------------------------------------------\u001b[0m",
      "\u001b[0;31mIndexError\u001b[0m                                Traceback (most recent call last)",
      "\u001b[0;32m/var/folders/9s/j9tqx4617_jg3hnd11b6g4080000gn/T/ipykernel_2845/1381978823.py\u001b[0m in \u001b[0;36m<module>\u001b[0;34m\u001b[0m\n\u001b[1;32m      2\u001b[0m \u001b[0;34m\u001b[0m\u001b[0m\n\u001b[1;32m      3\u001b[0m \u001b[0;32mfor\u001b[0m \u001b[0mi\u001b[0m \u001b[0;32min\u001b[0m \u001b[0mrange\u001b[0m\u001b[0;34m(\u001b[0m\u001b[0;36m10\u001b[0m\u001b[0;34m)\u001b[0m\u001b[0;34m:\u001b[0m\u001b[0;34m\u001b[0m\u001b[0;34m\u001b[0m\u001b[0m\n\u001b[0;32m----> 4\u001b[0;31m     \u001b[0mprint\u001b[0m\u001b[0;34m(\u001b[0m\u001b[0mx\u001b[0m\u001b[0;34m[\u001b[0m\u001b[0mi\u001b[0m\u001b[0;34m]\u001b[0m\u001b[0;34m)\u001b[0m\u001b[0;34m\u001b[0m\u001b[0;34m\u001b[0m\u001b[0m\n\u001b[0m",
      "\u001b[0;31mIndexError\u001b[0m: list index out of range"
     ]
    }
   ],
   "source": [
    "x = ['apple','mango','banana','kiwi']\n",
    "\n",
    "for i in range(10):\n",
    "    print(x[i])"
   ]
  },
  {
   "cell_type": "code",
   "execution_count": null,
   "id": "1801e826",
   "metadata": {},
   "outputs": [],
   "source": [
    "Exception Handling: When an undesirable situation or error or exception occurs, we don't want \n",
    "whole program to crash. So to handle that we do exception handling."
   ]
  },
  {
   "cell_type": "code",
   "execution_count": 9,
   "id": "15778ebc",
   "metadata": {},
   "outputs": [
    {
     "ename": "ZeroDivisionError",
     "evalue": "division by zero",
     "output_type": "error",
     "traceback": [
      "\u001b[0;31m---------------------------------------------------------------------------\u001b[0m",
      "\u001b[0;31mZeroDivisionError\u001b[0m                         Traceback (most recent call last)",
      "\u001b[0;32m/var/folders/9s/j9tqx4617_jg3hnd11b6g4080000gn/T/ipykernel_2845/579205302.py\u001b[0m in \u001b[0;36m<module>\u001b[0;34m\u001b[0m\n\u001b[1;32m      1\u001b[0m \u001b[0mx\u001b[0m \u001b[0;34m=\u001b[0m \u001b[0;36m5\u001b[0m\u001b[0;34m\u001b[0m\u001b[0;34m\u001b[0m\u001b[0m\n\u001b[1;32m      2\u001b[0m \u001b[0my\u001b[0m \u001b[0;34m=\u001b[0m \u001b[0;36m0\u001b[0m\u001b[0;34m\u001b[0m\u001b[0;34m\u001b[0m\u001b[0m\n\u001b[0;32m----> 3\u001b[0;31m \u001b[0mprint\u001b[0m\u001b[0;34m(\u001b[0m\u001b[0mx\u001b[0m\u001b[0;34m/\u001b[0m\u001b[0my\u001b[0m\u001b[0;34m)\u001b[0m\u001b[0;34m\u001b[0m\u001b[0;34m\u001b[0m\u001b[0m\n\u001b[0m\u001b[1;32m      4\u001b[0m \u001b[0;34m\u001b[0m\u001b[0m\n\u001b[1;32m      5\u001b[0m \u001b[0mprint\u001b[0m\u001b[0;34m(\u001b[0m\u001b[0;34m'These are the fruits that I love:-'\u001b[0m\u001b[0;34m)\u001b[0m\u001b[0;34m\u001b[0m\u001b[0;34m\u001b[0m\u001b[0m\n",
      "\u001b[0;31mZeroDivisionError\u001b[0m: division by zero"
     ]
    }
   ],
   "source": [
    "x = 5\n",
    "y = 0\n",
    "print(x/y)\n",
    "\n",
    "print('These are the fruits that I love:-')\n",
    "for i in ['apple','mango','banana']:\n",
    "    print(i)"
   ]
  },
  {
   "cell_type": "code",
   "execution_count": null,
   "id": "107bc00b",
   "metadata": {},
   "outputs": [],
   "source": [
    "try:\n",
    "    The block which will be running and can likely contain error.\n",
    "    .....\n",
    "    .....\n",
    "except:\n",
    "    when the try block have some exceptions."
   ]
  },
  {
   "cell_type": "code",
   "execution_count": 10,
   "id": "4137435d",
   "metadata": {},
   "outputs": [
    {
     "name": "stdout",
     "output_type": "stream",
     "text": [
      "Some Error Occured\n",
      "These are the fruits that I love:-\n",
      "apple\n",
      "mango\n",
      "banana\n"
     ]
    }
   ],
   "source": [
    "try:\n",
    "    x = 5\n",
    "    y = 0\n",
    "    print(x/y)\n",
    "except:\n",
    "    print(\"Some Error Occured\")\n",
    "    print('These are the fruits that I love:-')\n",
    "    for i in ['apple','mango','banana']:\n",
    "        print(i)"
   ]
  },
  {
   "cell_type": "code",
   "execution_count": 11,
   "id": "27bc928d",
   "metadata": {},
   "outputs": [
    {
     "name": "stdout",
     "output_type": "stream",
     "text": [
      "2.5\n"
     ]
    }
   ],
   "source": [
    "try:\n",
    "    x = 5\n",
    "    y = 2\n",
    "    print(x/y)\n",
    "except:\n",
    "    print(\"Some Error Occured\")\n",
    "    print('These are the fruits that I love:-')\n",
    "    for i in ['apple','mango','banana']:\n",
    "        print(i)"
   ]
  },
  {
   "cell_type": "markdown",
   "id": "009f2a9d",
   "metadata": {},
   "source": [
    "# Except Block only runs if there is an exception."
   ]
  },
  {
   "cell_type": "code",
   "execution_count": 12,
   "id": "05b0b786",
   "metadata": {},
   "outputs": [
    {
     "name": "stdout",
     "output_type": "stream",
     "text": [
      "2.5\n",
      "apple\n",
      "mango\n",
      "banana\n",
      "kiwi\n",
      "Some Error Occured\n",
      "These are the fruits that I love:-\n",
      "apple\n",
      "mango\n",
      "banana\n"
     ]
    }
   ],
   "source": [
    "try:\n",
    "    x = 5\n",
    "    y = 2\n",
    "    print(x/y)\n",
    "    x = ['apple','mango','banana','kiwi']\n",
    "    for i in range(10):\n",
    "        print(x[i])\n",
    "except:\n",
    "    print(\"Some Error Occured\")\n",
    "    print('These are the fruits that I love:-')\n",
    "    for i in ['apple','mango','banana']:\n",
    "        print(i)"
   ]
  },
  {
   "cell_type": "code",
   "execution_count": 15,
   "id": "6292becb",
   "metadata": {},
   "outputs": [
    {
     "name": "stdout",
     "output_type": "stream",
     "text": [
      "Zero Division Error Occured here!!\n",
      "Let's talk about Borealis Aurora or something!!\n"
     ]
    }
   ],
   "source": [
    "try:\n",
    "    x = 5\n",
    "    y = 0\n",
    "    print(x/y)\n",
    "    x = ['apple','mango','banana','kiwi']\n",
    "    for i in range(10):\n",
    "        print(x[i])\n",
    "except ZeroDivisionError:\n",
    "    print(\"Zero Division Error Occured here!!\")\n",
    "except IndexError:\n",
    "    print('Index Error Occured here!!')\n",
    "    \n",
    "print(\"Let's talk about Aurora Borealis or something!!\")"
   ]
  },
  {
   "cell_type": "code",
   "execution_count": null,
   "id": "77a59086",
   "metadata": {},
   "outputs": [],
   "source": [
    "def find_div(a,b):\n",
    "    try:\n",
    "        return a/b\n",
    "    except:\n",
    "        print('Zero Division Error occured!!')"
   ]
  },
  {
   "cell_type": "code",
   "execution_count": null,
   "id": "c2dd9795",
   "metadata": {},
   "outputs": [],
   "source": [
    "else block with try except: runs only if the try does not result in an\n",
    "error. so no except block runs."
   ]
  },
  {
   "cell_type": "code",
   "execution_count": 16,
   "id": "8f3d3e2a",
   "metadata": {},
   "outputs": [
    {
     "name": "stdout",
     "output_type": "stream",
     "text": [
      "1.6666666666666667\n",
      "apple\n",
      "mango\n",
      "banana\n",
      "We were smoothly able to avoid any kind of error so far.\n"
     ]
    }
   ],
   "source": [
    "try:\n",
    "    x = 5\n",
    "    y = 3\n",
    "    print(x/y)\n",
    "    x = ['apple','mango','banana','kiwi']\n",
    "    for i in range(3):\n",
    "        print(x[i])\n",
    "except ZeroDivisionError:\n",
    "    print(\"Zero Division Error Occured here!!\")\n",
    "except IndexError:\n",
    "    print('Index Error Occured here!!')\n",
    "else:\n",
    "    print('We were smoothly able to avoid any kind of error so far.')"
   ]
  },
  {
   "cell_type": "code",
   "execution_count": 17,
   "id": "2fd88763",
   "metadata": {},
   "outputs": [
    {
     "name": "stdout",
     "output_type": "stream",
     "text": [
      "1.6666666666666667\n",
      "apple\n",
      "mango\n",
      "banana\n",
      "kiwi\n",
      "Index Error Occured here!!\n"
     ]
    }
   ],
   "source": [
    "try:\n",
    "    x = 5\n",
    "    y = 3\n",
    "    print(x/y)\n",
    "    x = ['apple','mango','banana','kiwi']\n",
    "    for i in range(10):\n",
    "        print(x[i])\n",
    "except ZeroDivisionError:\n",
    "    print(\"Zero Division Error Occured here!!\")\n",
    "except IndexError:\n",
    "    print('Index Error Occured here!!')\n",
    "else:\n",
    "    print('We were smoothly able to avoid any kind of error so far.')"
   ]
  },
  {
   "cell_type": "code",
   "execution_count": null,
   "id": "bfdebd7a",
   "metadata": {},
   "outputs": [],
   "source": [
    "finally block: It runs no matter if we get the error or not."
   ]
  },
  {
   "cell_type": "code",
   "execution_count": 20,
   "id": "6404eea0",
   "metadata": {},
   "outputs": [],
   "source": [
    "fp = open('pushkarajDhoot.txt','w+')\n",
    "fp.close()"
   ]
  },
  {
   "cell_type": "code",
   "execution_count": 24,
   "id": "b00c5f0b",
   "metadata": {},
   "outputs": [
    {
     "name": "stdout",
     "output_type": "stream",
     "text": [
      "An error Occured!!\n",
      "I am here!!\n"
     ]
    }
   ],
   "source": [
    "fp = open('pushkarajDhoot.txt','r')\n",
    "try:\n",
    "    fp.write('34')\n",
    "except ZeroDivisionError:\n",
    "    print(\"Zero Division Error Occured here!!\")\n",
    "except IndexError:\n",
    "    print('Index Error Occured here!!')\n",
    "except:\n",
    "    print('An error Occured!!')\n",
    "else:\n",
    "    print('We were smoothly able to avoid any kind of error so far.')\n",
    "finally:\n",
    "    print('I am here!!')\n",
    "    fp.close()"
   ]
  },
  {
   "cell_type": "markdown",
   "id": "14ec2773",
   "metadata": {},
   "source": [
    "# How to create an custom exception"
   ]
  },
  {
   "cell_type": "code",
   "execution_count": 25,
   "id": "e6ac7187",
   "metadata": {},
   "outputs": [
    {
     "name": "stdout",
     "output_type": "stream",
     "text": [
      "python\n",
      "pandas\n"
     ]
    },
    {
     "ename": "Exception",
     "evalue": "How can a word in x start without p",
     "output_type": "error",
     "traceback": [
      "\u001b[0;31m---------------------------------------------------------------------------\u001b[0m",
      "\u001b[0;31mException\u001b[0m                                 Traceback (most recent call last)",
      "\u001b[0;32m/var/folders/9s/j9tqx4617_jg3hnd11b6g4080000gn/T/ipykernel_2845/3548078212.py\u001b[0m in \u001b[0;36m<module>\u001b[0;34m\u001b[0m\n\u001b[1;32m      3\u001b[0m \u001b[0;32mfor\u001b[0m \u001b[0mi\u001b[0m \u001b[0;32min\u001b[0m \u001b[0mx\u001b[0m\u001b[0;34m:\u001b[0m\u001b[0;34m\u001b[0m\u001b[0;34m\u001b[0m\u001b[0m\n\u001b[1;32m      4\u001b[0m     \u001b[0;32mif\u001b[0m \u001b[0mi\u001b[0m\u001b[0;34m[\u001b[0m\u001b[0;36m0\u001b[0m\u001b[0;34m]\u001b[0m \u001b[0;34m!=\u001b[0m \u001b[0;34m'p'\u001b[0m\u001b[0;34m:\u001b[0m\u001b[0;34m\u001b[0m\u001b[0;34m\u001b[0m\u001b[0m\n\u001b[0;32m----> 5\u001b[0;31m         \u001b[0;32mraise\u001b[0m \u001b[0mException\u001b[0m\u001b[0;34m(\u001b[0m\u001b[0;34m'How can a word in x start without p'\u001b[0m\u001b[0;34m)\u001b[0m\u001b[0;34m\u001b[0m\u001b[0;34m\u001b[0m\u001b[0m\n\u001b[0m\u001b[1;32m      6\u001b[0m     \u001b[0mprint\u001b[0m\u001b[0;34m(\u001b[0m\u001b[0mi\u001b[0m\u001b[0;34m)\u001b[0m\u001b[0;34m\u001b[0m\u001b[0;34m\u001b[0m\u001b[0m\n",
      "\u001b[0;31mException\u001b[0m: How can a word in x start without p"
     ]
    }
   ],
   "source": [
    "x = ['python','pandas','numpy']\n",
    "\n",
    "for i in x:\n",
    "    if i[0] != 'p':\n",
    "        raise Exception('How can a word in x start without p')\n",
    "    print(i)"
   ]
  },
  {
   "cell_type": "code",
   "execution_count": null,
   "id": "126218ca",
   "metadata": {},
   "outputs": [],
   "source": [
    "When is it usefull?\n",
    "-> When writing your own functions, modules, packages, etc"
   ]
  },
  {
   "cell_type": "code",
   "execution_count": 26,
   "id": "d9f1d5a0",
   "metadata": {},
   "outputs": [
    {
     "ename": "Exception",
     "evalue": "How can a word in x start without p",
     "output_type": "error",
     "traceback": [
      "\u001b[0;31m---------------------------------------------------------------------------\u001b[0m",
      "\u001b[0;31mException\u001b[0m                                 Traceback (most recent call last)",
      "\u001b[0;32m/var/folders/9s/j9tqx4617_jg3hnd11b6g4080000gn/T/ipykernel_2845/1288183205.py\u001b[0m in \u001b[0;36m<module>\u001b[0;34m\u001b[0m\n\u001b[1;32m      3\u001b[0m \u001b[0;32mfor\u001b[0m \u001b[0mi\u001b[0m \u001b[0;32min\u001b[0m \u001b[0mx\u001b[0m\u001b[0;34m:\u001b[0m\u001b[0;34m\u001b[0m\u001b[0;34m\u001b[0m\u001b[0m\n\u001b[1;32m      4\u001b[0m     \u001b[0;32mif\u001b[0m \u001b[0mi\u001b[0m\u001b[0;34m[\u001b[0m\u001b[0;36m0\u001b[0m\u001b[0;34m]\u001b[0m \u001b[0;34m!=\u001b[0m \u001b[0;34m'p'\u001b[0m\u001b[0;34m:\u001b[0m\u001b[0;34m\u001b[0m\u001b[0;34m\u001b[0m\u001b[0m\n\u001b[0;32m----> 5\u001b[0;31m         \u001b[0;32mraise\u001b[0m \u001b[0mException\u001b[0m\u001b[0;34m(\u001b[0m\u001b[0;34m'How can a word in x start without p'\u001b[0m\u001b[0;34m)\u001b[0m\u001b[0;34m\u001b[0m\u001b[0;34m\u001b[0m\u001b[0m\n\u001b[0m\u001b[1;32m      6\u001b[0m     \u001b[0mprint\u001b[0m\u001b[0;34m(\u001b[0m\u001b[0mi\u001b[0m\u001b[0;34m)\u001b[0m\u001b[0;34m\u001b[0m\u001b[0;34m\u001b[0m\u001b[0m\n",
      "\u001b[0;31mException\u001b[0m: How can a word in x start without p"
     ]
    }
   ],
   "source": [
    "x = ['numpy','python','pandas']\n",
    "\n",
    "for i in x:\n",
    "    if i[0] != 'p':\n",
    "        raise Exception('How can a word in x start without p')\n",
    "    print(i)"
   ]
  },
  {
   "cell_type": "code",
   "execution_count": null,
   "id": "90e3c5c2",
   "metadata": {},
   "outputs": [],
   "source": [
    "Implement a for loop using while loop and exception handling."
   ]
  },
  {
   "cell_type": "code",
   "execution_count": 27,
   "id": "1b683f5e",
   "metadata": {},
   "outputs": [
    {
     "name": "stdout",
     "output_type": "stream",
     "text": [
      "python\n",
      "pandas\n",
      "numpy\n"
     ]
    }
   ],
   "source": [
    "x = ['python','pandas','numpy']\n",
    "\n",
    "for i in x:\n",
    "    print(i)"
   ]
  },
  {
   "cell_type": "code",
   "execution_count": 28,
   "id": "57c5f0d4",
   "metadata": {},
   "outputs": [
    {
     "name": "stdout",
     "output_type": "stream",
     "text": [
      "python\n"
     ]
    }
   ],
   "source": [
    "# how iterator works\n",
    "x = ['python','pandas','numpy']\n",
    "iter_obj = iter(x)\n",
    "\n",
    "print(next(iter_obj))"
   ]
  },
  {
   "cell_type": "code",
   "execution_count": 29,
   "id": "00f10db2",
   "metadata": {},
   "outputs": [
    {
     "name": "stdout",
     "output_type": "stream",
     "text": [
      "pandas\n"
     ]
    }
   ],
   "source": [
    "print(next(iter_obj))"
   ]
  },
  {
   "cell_type": "code",
   "execution_count": 30,
   "id": "28c5dc9e",
   "metadata": {},
   "outputs": [
    {
     "name": "stdout",
     "output_type": "stream",
     "text": [
      "numpy\n"
     ]
    }
   ],
   "source": [
    "print(next(iter_obj))"
   ]
  },
  {
   "cell_type": "code",
   "execution_count": 31,
   "id": "b71f0717",
   "metadata": {},
   "outputs": [
    {
     "ename": "StopIteration",
     "evalue": "",
     "output_type": "error",
     "traceback": [
      "\u001b[0;31m---------------------------------------------------------------------------\u001b[0m",
      "\u001b[0;31mStopIteration\u001b[0m                             Traceback (most recent call last)",
      "\u001b[0;32m/var/folders/9s/j9tqx4617_jg3hnd11b6g4080000gn/T/ipykernel_2845/3975731906.py\u001b[0m in \u001b[0;36m<module>\u001b[0;34m\u001b[0m\n\u001b[0;32m----> 1\u001b[0;31m \u001b[0mprint\u001b[0m\u001b[0;34m(\u001b[0m\u001b[0mnext\u001b[0m\u001b[0;34m(\u001b[0m\u001b[0miter_obj\u001b[0m\u001b[0;34m)\u001b[0m\u001b[0;34m)\u001b[0m\u001b[0;34m\u001b[0m\u001b[0;34m\u001b[0m\u001b[0m\n\u001b[0m",
      "\u001b[0;31mStopIteration\u001b[0m: "
     ]
    }
   ],
   "source": [
    "print(next(iter_obj))"
   ]
  },
  {
   "cell_type": "code",
   "execution_count": 32,
   "id": "3972df7e",
   "metadata": {},
   "outputs": [
    {
     "name": "stdout",
     "output_type": "stream",
     "text": [
      "python\n",
      "pandas\n",
      "numpy\n"
     ]
    }
   ],
   "source": [
    "x = ['python','pandas','numpy']\n",
    "iter_obj = iter(x)\n",
    "\n",
    "while True:\n",
    "    try:\n",
    "        print(next(iter_obj))\n",
    "    except StopIteration:\n",
    "        break"
   ]
  },
  {
   "cell_type": "code",
   "execution_count": null,
   "id": "7c010fd8",
   "metadata": {},
   "outputs": [],
   "source": []
  }
 ],
 "metadata": {
  "kernelspec": {
   "display_name": "Python 3 (ipykernel)",
   "language": "python",
   "name": "python3"
  },
  "language_info": {
   "codemirror_mode": {
    "name": "ipython",
    "version": 3
   },
   "file_extension": ".py",
   "mimetype": "text/x-python",
   "name": "python",
   "nbconvert_exporter": "python",
   "pygments_lexer": "ipython3",
   "version": "3.8.9"
  }
 },
 "nbformat": 4,
 "nbformat_minor": 5
}

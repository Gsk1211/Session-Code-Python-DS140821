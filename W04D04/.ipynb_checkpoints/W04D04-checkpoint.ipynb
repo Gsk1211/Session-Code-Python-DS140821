{
 "cells": [
  {
   "cell_type": "code",
   "execution_count": 1,
   "metadata": {},
   "outputs": [
    {
     "data": {
      "text/plain": [
       "60"
      ]
     },
     "execution_count": 1,
     "metadata": {},
     "output_type": "execute_result"
    }
   ],
   "source": [
    "l = [1,2,40,3,4,60,23,9]\n",
    "max(l)"
   ]
  },
  {
   "cell_type": "code",
   "execution_count": 2,
   "metadata": {},
   "outputs": [
    {
     "data": {
      "text/plain": [
       "67"
      ]
     },
     "execution_count": 2,
     "metadata": {},
     "output_type": "execute_result"
    }
   ],
   "source": [
    "l = [23,45,56,67]\n",
    "max(l)"
   ]
  },
  {
   "cell_type": "code",
   "execution_count": null,
   "metadata": {},
   "outputs": [],
   "source": [
    "Calling a function:"
   ]
  },
  {
   "cell_type": "code",
   "execution_count": null,
   "metadata": {},
   "outputs": [],
   "source": [
    "User created functions:\n",
    "    -> Functions defined by the user."
   ]
  },
  {
   "cell_type": "code",
   "execution_count": 3,
   "metadata": {},
   "outputs": [],
   "source": [
    "cart = []\n",
    "\n",
    "cart.append('WEKJ23454')"
   ]
  },
  {
   "cell_type": "code",
   "execution_count": 4,
   "metadata": {},
   "outputs": [
    {
     "data": {
      "text/plain": [
       "['WEKJ23454']"
      ]
     },
     "execution_count": 4,
     "metadata": {},
     "output_type": "execute_result"
    }
   ],
   "source": [
    "cart"
   ]
  },
  {
   "cell_type": "code",
   "execution_count": 5,
   "metadata": {},
   "outputs": [],
   "source": [
    "cart.append('34DIOKJDFS')"
   ]
  },
  {
   "cell_type": "code",
   "execution_count": 6,
   "metadata": {},
   "outputs": [
    {
     "data": {
      "text/plain": [
       "['WEKJ23454', '34DIOKJDFS']"
      ]
     },
     "execution_count": 6,
     "metadata": {},
     "output_type": "execute_result"
    }
   ],
   "source": [
    "cart"
   ]
  },
  {
   "cell_type": "code",
   "execution_count": null,
   "metadata": {},
   "outputs": [],
   "source": [
    "Syntax of Defining Function:\n",
    "\n",
    "def function_name(inp1,inp2,...):\n",
    "    code\n",
    "    code\n",
    "    code\n",
    "    optionaly a return statement\n",
    "    (if you don't use a return statement it returns None automatically)"
   ]
  },
  {
   "cell_type": "code",
   "execution_count": 23,
   "metadata": {},
   "outputs": [],
   "source": [
    "#definition of function\n",
    "\n",
    "def calculate_emi(total_price,tenure):\n",
    "    emi_for_one_month = total_price/tenure\n",
    "    return emi_for_one_month"
   ]
  },
  {
   "cell_type": "code",
   "execution_count": 24,
   "metadata": {},
   "outputs": [],
   "source": [
    "# calling a function\n",
    "\n",
    "payment_for_laptop_month = calculate_emi(90199,24)"
   ]
  },
  {
   "cell_type": "code",
   "execution_count": 25,
   "metadata": {},
   "outputs": [],
   "source": [
    "payment_for_mobile_month = calculate_emi(27000,24)"
   ]
  },
  {
   "cell_type": "code",
   "execution_count": 26,
   "metadata": {},
   "outputs": [
    {
     "name": "stdout",
     "output_type": "stream",
     "text": [
      "3758.2916666666665\n"
     ]
    }
   ],
   "source": [
    "print(payment_for_laptop_month)"
   ]
  },
  {
   "cell_type": "code",
   "execution_count": 27,
   "metadata": {},
   "outputs": [
    {
     "name": "stdout",
     "output_type": "stream",
     "text": [
      "1125.0\n"
     ]
    }
   ],
   "source": [
    "print(payment_for_mobile_month)"
   ]
  },
  {
   "cell_type": "code",
   "execution_count": 28,
   "metadata": {},
   "outputs": [],
   "source": [
    "def countOccurenceOfChar(string):\n",
    "    dict1 = {}\n",
    "    for char in string:\n",
    "        dict1[char] = string.count(char)\n",
    "    return dict1"
   ]
  },
  {
   "cell_type": "code",
   "execution_count": 30,
   "metadata": {},
   "outputs": [
    {
     "data": {
      "text/plain": [
       "{'a': 3,\n",
       " 'd': 1,\n",
       " 'i': 1,\n",
       " 't': 1,\n",
       " 'y': 1,\n",
       " ' ': 1,\n",
       " 'k': 1,\n",
       " 'u': 1,\n",
       " 'm': 1,\n",
       " 'r': 1}"
      ]
     },
     "execution_count": 30,
     "metadata": {},
     "output_type": "execute_result"
    }
   ],
   "source": [
    "countOccurenceOfChar('aditya kumar')"
   ]
  },
  {
   "cell_type": "code",
   "execution_count": 31,
   "metadata": {},
   "outputs": [
    {
     "data": {
      "text/plain": [
       "{'a': 1, 'p': 2, 'l': 1, 'e': 1}"
      ]
     },
     "execution_count": 31,
     "metadata": {},
     "output_type": "execute_result"
    }
   ],
   "source": [
    "countOccurenceOfChar('apple')"
   ]
  },
  {
   "cell_type": "code",
   "execution_count": 32,
   "metadata": {},
   "outputs": [
    {
     "data": {
      "text/plain": [
       "{'p': 3, 'h': 1, 'i': 3, 'l': 1, 'n': 1, 'e': 1, 's': 1}"
      ]
     },
     "execution_count": 32,
     "metadata": {},
     "output_type": "execute_result"
    }
   ],
   "source": [
    "countOccurenceOfChar('philippines')"
   ]
  },
  {
   "cell_type": "code",
   "execution_count": 33,
   "metadata": {},
   "outputs": [
    {
     "data": {
      "text/plain": [
       "{'i': 2, 'n': 1, 'd': 1, 'a': 1}"
      ]
     },
     "execution_count": 33,
     "metadata": {},
     "output_type": "execute_result"
    }
   ],
   "source": [
    "countOccurenceOfChar('india')"
   ]
  },
  {
   "cell_type": "code",
   "execution_count": 35,
   "metadata": {},
   "outputs": [
    {
     "data": {
      "text/plain": [
       "{'t': 2,\n",
       " 'h': 2,\n",
       " 'i': 1,\n",
       " 'r': 2,\n",
       " 'u': 2,\n",
       " 'v': 1,\n",
       " 'a': 3,\n",
       " 'n': 2,\n",
       " 'p': 1,\n",
       " 'm': 1}"
      ]
     },
     "execution_count": 35,
     "metadata": {},
     "output_type": "execute_result"
    }
   ],
   "source": [
    "countOccurenceOfChar('thiruvananthpuram')"
   ]
  },
  {
   "cell_type": "code",
   "execution_count": 37,
   "metadata": {},
   "outputs": [
    {
     "name": "stdout",
     "output_type": "stream",
     "text": [
      "dict_items([('python', 3), ('java', 8), ('django', 2)])\n"
     ]
    }
   ],
   "source": [
    "dict1 = {'python':3,'java':8,'django':2}\n",
    "\n",
    "('django',2),('python',3),('java',8)\n",
    "\n",
    "print(dict1.items())"
   ]
  },
  {
   "cell_type": "code",
   "execution_count": 42,
   "metadata": {},
   "outputs": [
    {
     "data": {
      "text/plain": [
       "[('django', 2), ('python', 3), ('java', 8)]"
      ]
     },
     "execution_count": 42,
     "metadata": {},
     "output_type": "execute_result"
    }
   ],
   "source": [
    "def fun1(x):\n",
    "    return x[1]\n",
    "\n",
    "sorted(dict1.items(),key=fun1)"
   ]
  },
  {
   "cell_type": "code",
   "execution_count": null,
   "metadata": {},
   "outputs": [],
   "source": [
    "Question: Write a function which takes a list and print it's first\n",
    "    and last element.\n",
    "    \n",
    "20:33"
   ]
  },
  {
   "cell_type": "code",
   "execution_count": 2,
   "metadata": {},
   "outputs": [],
   "source": [
    "def fun1(x):\n",
    "    print('First Element ',x[0])\n",
    "    print('Last Element ',x[-1])"
   ]
  },
  {
   "cell_type": "code",
   "execution_count": 3,
   "metadata": {},
   "outputs": [
    {
     "name": "stdout",
     "output_type": "stream",
     "text": [
      "First Element  apple\n",
      "Last Element  kiwi\n"
     ]
    }
   ],
   "source": [
    "fun1(['apple','mango','banana','kiwi'])"
   ]
  },
  {
   "cell_type": "code",
   "execution_count": 4,
   "metadata": {},
   "outputs": [
    {
     "name": "stdout",
     "output_type": "stream",
     "text": [
      "First Element  1\n",
      "Last Element  5\n"
     ]
    }
   ],
   "source": [
    "fun1([1,2,3,4,5])"
   ]
  },
  {
   "cell_type": "code",
   "execution_count": 46,
   "metadata": {},
   "outputs": [],
   "source": [
    "# How to find the 2nd largest Number?\n",
    "# without using any builtin function.\n",
    "\n",
    "x = [1,20,34,89,345,76,67,23]\n",
    "# ans => 89"
   ]
  },
  {
   "cell_type": "code",
   "execution_count": 71,
   "metadata": {},
   "outputs": [
    {
     "name": "stdout",
     "output_type": "stream",
     "text": [
      "in second if 20\n",
      "in second if 34\n",
      "in second if 899\n",
      "899\n"
     ]
    }
   ],
   "source": [
    "# x = [1,20,34,899,89,345,76,67,23]\n",
    "# x = [1,20,34,899,89,345,76,67,23,1000]\n",
    "# x = [1,20,34,1000,899,89,345,76,67,23]\n",
    "# x = [899,1000]\n",
    "# x = [40,50,20,30,90,69]\n",
    "# x = [899,1000,900,6567]\n",
    "x = [1121,1,20,34,899,89,345,76,67,23]\n",
    "maximum_no = x[0]\n",
    "second_max = x[1]\n",
    "\n",
    "for i in x:\n",
    "    if i > maximum_no:\n",
    "        second_max = maximum_no\n",
    "        maximum_no = i\n",
    "        print('in first if',i)\n",
    "    if i > second_max and i < maximum_no:\n",
    "        second_max = i\n",
    "        print('in second if',i)\n",
    "if maximum_no == second_max:\n",
    "    print('Second Max DNE')\n",
    "else:\n",
    "    print(second_max)\n",
    "    \n",
    "HOMEWORK: BREAK THE GIVEN CODE"
   ]
  },
  {
   "cell_type": "code",
   "execution_count": 1,
   "metadata": {},
   "outputs": [
    {
     "name": "stdout",
     "output_type": "stream",
     "text": [
      "Second highest number is :  5\n"
     ]
    }
   ],
   "source": [
    "# Correct Solution\n",
    "\n",
    "# l = [1,20,34,899,89,345,76,67,23,1000]\n",
    "l = [1,2,3,5,8,8]\n",
    "\n",
    "mx=max(l[0],l[1])\n",
    "secondmax=min(l[0],l[1])\n",
    "n =len(l)\n",
    "for i in range(2,n):\n",
    "    if l[i]>mx:\n",
    "        secondmax=mx\n",
    "        mx=l[i]\n",
    "    elif l[i]>secondmax and mx != l[i]:\n",
    "        secondmax=l[i]\n",
    "\n",
    "print(\"Second highest number is : \",secondmax)"
   ]
  }
 ],
 "metadata": {
  "kernelspec": {
   "display_name": "Python 3",
   "language": "python",
   "name": "python3"
  },
  "language_info": {
   "codemirror_mode": {
    "name": "ipython",
    "version": 3
   },
   "file_extension": ".py",
   "mimetype": "text/x-python",
   "name": "python",
   "nbconvert_exporter": "python",
   "pygments_lexer": "ipython3",
   "version": "3.8.3"
  }
 },
 "nbformat": 4,
 "nbformat_minor": 4
}

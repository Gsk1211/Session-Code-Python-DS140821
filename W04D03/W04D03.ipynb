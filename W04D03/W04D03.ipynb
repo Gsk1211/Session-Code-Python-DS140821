{
 "cells": [
  {
   "cell_type": "code",
   "execution_count": null,
   "metadata": {},
   "outputs": [],
   "source": [
    "Revision:\n",
    "    Python Keywords:\n",
    "        for\n",
    "        if\n",
    "        break\n",
    "        continue\n",
    "        and\n",
    "        or\n",
    "        elif\n",
    "        else\n",
    "        pass\n",
    "        is\n",
    "        in\n",
    "        while\n",
    "        not\n",
    "    \n",
    "    Builtin Functions:\n",
    "        len() -> applied to iterables\n",
    "        del -> all the objects\n",
    "        max(),min() -> to find the max among an iterable\n",
    "        print()\n",
    "        sum()\n",
    "        ord()\n",
    "        chr()\n",
    "        bool()\n",
    "        input()\n",
    "        set(),list(),int(),float(),str(),dict(),tuple(),\n",
    "        range()\n",
    "        type()\n",
    "        id()\n",
    "        eval()\n",
    "        sorted()\n",
    "        \n",
    "    String:\n",
    "        -Immutable\n",
    "        -Ordered: Indexing and Slicing\n",
    "        -Iterable\n",
    "        Builtin Functions:\n",
    "            split and join\n",
    "            replace\n",
    "            count\n",
    "            strip,lstrip,rstrip\n",
    "            find,index,rindex,rfind\n",
    "            lower,upper,title,capitalize,istitle,isupper\n",
    "            isdigit,isnumeric,isalpha,isalnum,isspace,isdecimal\n",
    "            HW: Find out difference between isdigit,isnumeric & isdecimal\n",
    "    \n",
    "    List:\n",
    "        - Mutable\n",
    "        - Ordered: Indexing and Slicing\n",
    "        - Iterable\n",
    "        - Heterogenous: all sorts of data types are allowed.\n",
    "        Builtin Functions:\n",
    "            append,insert,extend\n",
    "            pop,clear,remove\n",
    "            sort\n",
    "            count\n",
    "            reverse\n",
    "            index\n",
    "            \n",
    "    Tuples:\n",
    "        - Immutble\n",
    "        - Ordered: Indexing and Slicing\n",
    "        - Iterable\n",
    "        - Heterogenous: all sorts of data types are allowed.\n",
    "        Builtin Functions:\n",
    "            count\n",
    "            index\n",
    "    Dict:\n",
    "        -> Mutable\n",
    "        -> key:value pairs\n",
    "        -> keys are unique and immutable\n",
    "        -> Are not ordred, so no indexing and slicing\n",
    "        -> Python 3.5 onwards, Insertion ordered.\n",
    "        Builtin Functions:\n",
    "            get()\n",
    "            setdefault()\n",
    "            .items(), .keys() .values()\n",
    "            pop()\n",
    "            popitem()\n",
    "            clear()\n",
    "            del\n",
    "            \n",
    "    Sets:\n",
    "        -> Mutable\n",
    "        -> Elements in sets are unique and immutable\n",
    "        -> Unordered: Does not have indexing and slicing\n",
    "        Builtin Functions:\n",
    "            Consider s1 and s2\n",
    "            union\n",
    "            intersection\n",
    "            difference\n",
    "            symmetric_difference\n",
    "            \n",
    "            Above Operations returns a new set.\n",
    "            \n",
    "            update\n",
    "            add\n",
    "            discard\n",
    "            remove\n",
    "            pop\n",
    "            clear\n",
    "            del\n",
    "            \n",
    "True,False,int,float,None\n",
    "Numbers(int,float)"
   ]
  },
  {
   "cell_type": "code",
   "execution_count": 18,
   "metadata": {},
   "outputs": [
    {
     "ename": "AttributeError",
     "evalue": "'tuple' object has no attribute 'sort'",
     "output_type": "error",
     "traceback": [
      "\u001b[1;31m---------------------------------------------------------------------------\u001b[0m",
      "\u001b[1;31mAttributeError\u001b[0m                            Traceback (most recent call last)",
      "\u001b[1;32m<ipython-input-18-4a3f9d1ecf34>\u001b[0m in \u001b[0;36m<module>\u001b[1;34m\u001b[0m\n\u001b[0;32m      1\u001b[0m \u001b[0mx\u001b[0m \u001b[1;33m=\u001b[0m \u001b[1;33m(\u001b[0m\u001b[1;36m1\u001b[0m\u001b[1;33m,\u001b[0m\u001b[1;36m4\u001b[0m\u001b[1;33m,\u001b[0m\u001b[1;36m2\u001b[0m\u001b[1;33m)\u001b[0m\u001b[1;33m\u001b[0m\u001b[1;33m\u001b[0m\u001b[0m\n\u001b[1;32m----> 2\u001b[1;33m \u001b[0mx\u001b[0m\u001b[1;33m.\u001b[0m\u001b[0msort\u001b[0m\u001b[1;33m(\u001b[0m\u001b[1;33m)\u001b[0m\u001b[1;33m\u001b[0m\u001b[1;33m\u001b[0m\u001b[0m\n\u001b[0m",
      "\u001b[1;31mAttributeError\u001b[0m: 'tuple' object has no attribute 'sort'"
     ]
    }
   ],
   "source": [
    "x = (1,4,2)\n",
    "x.sort()"
   ]
  },
  {
   "cell_type": "code",
   "execution_count": 13,
   "metadata": {},
   "outputs": [
    {
     "data": {
      "text/plain": [
       "[1, 2, 3]"
      ]
     },
     "execution_count": 13,
     "metadata": {},
     "output_type": "execute_result"
    }
   ],
   "source": [
    "eval('[1,2,3]')"
   ]
  },
  {
   "cell_type": "code",
   "execution_count": 5,
   "metadata": {},
   "outputs": [
    {
     "data": {
      "text/plain": [
       "('c++', 15)"
      ]
     },
     "execution_count": 5,
     "metadata": {},
     "output_type": "execute_result"
    }
   ],
   "source": [
    "x = {'python':3, 'java':8}\n",
    "x['c++'] = 15\n",
    "x.popitem()"
   ]
  },
  {
   "cell_type": "code",
   "execution_count": 6,
   "metadata": {},
   "outputs": [
    {
     "data": {
      "text/plain": [
       "{'python': 3, 'java': 8}"
      ]
     },
     "execution_count": 6,
     "metadata": {},
     "output_type": "execute_result"
    }
   ],
   "source": [
    "x"
   ]
  },
  {
   "cell_type": "code",
   "execution_count": 7,
   "metadata": {},
   "outputs": [
    {
     "data": {
      "text/plain": [
       "3"
      ]
     },
     "execution_count": 7,
     "metadata": {},
     "output_type": "execute_result"
    }
   ],
   "source": [
    "x = {'python':3, 'java':8}\n",
    "x.get('python')"
   ]
  },
  {
   "cell_type": "code",
   "execution_count": 8,
   "metadata": {},
   "outputs": [],
   "source": [
    "x.get('magii')"
   ]
  },
  {
   "cell_type": "code",
   "execution_count": 9,
   "metadata": {},
   "outputs": [
    {
     "data": {
      "text/plain": [
       "'Not present'"
      ]
     },
     "execution_count": 9,
     "metadata": {},
     "output_type": "execute_result"
    }
   ],
   "source": [
    "x.get('maggi','Not present')"
   ]
  },
  {
   "cell_type": "code",
   "execution_count": 10,
   "metadata": {},
   "outputs": [
    {
     "data": {
      "text/plain": [
       "'Not present'"
      ]
     },
     "execution_count": 10,
     "metadata": {},
     "output_type": "execute_result"
    }
   ],
   "source": [
    "x.setdefault('maggi','Not present')"
   ]
  },
  {
   "cell_type": "code",
   "execution_count": 11,
   "metadata": {},
   "outputs": [
    {
     "data": {
      "text/plain": [
       "{'python': 3, 'java': 8, 'maggi': 'Not present'}"
      ]
     },
     "execution_count": 11,
     "metadata": {},
     "output_type": "execute_result"
    }
   ],
   "source": [
    "x"
   ]
  },
  {
   "cell_type": "markdown",
   "metadata": {},
   "source": [
    "## Q1) Store Alphabets as \"keys\" and their ASCII values as \"values\" to those keys.\n",
    "\n",
    "### Intuition: Use \"ord\" and \"chr\"\n",
    "\n",
    "### Pseudocode:\n",
    "    1.) Loop from a to z.\n",
    "    2.) store them as keys and find their ascii to store them as values."
   ]
  },
  {
   "cell_type": "code",
   "execution_count": 12,
   "metadata": {},
   "outputs": [
    {
     "data": {
      "text/plain": [
       "97"
      ]
     },
     "execution_count": 12,
     "metadata": {},
     "output_type": "execute_result"
    }
   ],
   "source": [
    "x = 'a'\n",
    "ord(x)"
   ]
  },
  {
   "cell_type": "code",
   "execution_count": null,
   "metadata": {},
   "outputs": [],
   "source": [
    "{'a':97,'b':98,'c':99......}"
   ]
  },
  {
   "cell_type": "code",
   "execution_count": null,
   "metadata": {},
   "outputs": [],
   "source": [
    "5 minutes\n",
    "19:58"
   ]
  },
  {
   "cell_type": "code",
   "execution_count": 20,
   "metadata": {},
   "outputs": [
    {
     "name": "stdout",
     "output_type": "stream",
     "text": [
      "a\n",
      "b\n",
      "c\n",
      "d\n",
      "e\n",
      "f\n",
      "g\n",
      "h\n",
      "i\n",
      "j\n",
      "k\n",
      "l\n",
      "m\n",
      "n\n",
      "o\n",
      "p\n",
      "q\n",
      "r\n",
      "s\n",
      "t\n",
      "u\n",
      "v\n",
      "w\n",
      "x\n",
      "y\n",
      "z\n",
      "{'a': 97, 'b': 98, 'c': 99, 'd': 100, 'e': 101, 'f': 102, 'g': 103, 'h': 104, 'i': 105, 'j': 106, 'k': 107, 'l': 108, 'm': 109, 'n': 110, 'o': 111, 'p': 112, 'q': 113, 'r': 114, 's': 115, 't': 116, 'u': 117, 'v': 118, 'w': 119, 'x': 120, 'y': 121, 'z': 122}\n"
     ]
    }
   ],
   "source": [
    "alphabets = {}\n",
    "for i in range(97,123):\n",
    "    print(chr(i))\n",
    "    alphabets[chr(i)] = i\n",
    "print(alphabets)"
   ]
  },
  {
   "cell_type": "markdown",
   "metadata": {},
   "source": [
    "## Q2) Count the number of occurrence of each letter in word \"apple\". Store count of every letter with the letter in a dictionary.\n",
    "\n",
    "### Intuition: Use in operator to check if it already exist.\n",
    "\n",
    "### Pseudocode:\n",
    "    1.)loop over all the chars in \"apple\".\n",
    "    2.)if char already exist, increase it's count, else give it count = 1"
   ]
  },
  {
   "cell_type": "code",
   "execution_count": 21,
   "metadata": {},
   "outputs": [
    {
     "name": "stdout",
     "output_type": "stream",
     "text": [
      "{'a': 1, 'p': 2, 'l': 1, 'e': 1}\n"
     ]
    }
   ],
   "source": [
    "dict1 = {}\n",
    "for char in \"apple\":\n",
    "    dict1[char] = \"apple\".count(char)\n",
    "print(dict1)"
   ]
  },
  {
   "cell_type": "code",
   "execution_count": 22,
   "metadata": {},
   "outputs": [
    {
     "name": "stdout",
     "output_type": "stream",
     "text": [
      "{'a': 1, 'p': 2, 'l': 1, 'e': 1}\n"
     ]
    }
   ],
   "source": [
    "dict1 = {}\n",
    "for char in \"apple\":\n",
    "    if char in dict1:\n",
    "        dict1[char]+=1\n",
    "    else:\n",
    "        dict1[char]=1\n",
    "print(dict1)"
   ]
  },
  {
   "cell_type": "code",
   "execution_count": 17,
   "metadata": {},
   "outputs": [
    {
     "name": "stdout",
     "output_type": "stream",
     "text": [
      "dict_items([('name', 'Dhoni'), ('matches', 500), ('stumps', 495), ('highest', 183), ('role', 'batsman'), ('runs', 10000)])\n",
      "('name', 'Dhoni') <class 'tuple'> name ----> Dhoni\n",
      "('matches', 500) <class 'tuple'> matches ----> 500\n",
      "('stumps', 495) <class 'tuple'> stumps ----> 495\n",
      "('highest', 183) <class 'tuple'> highest ----> 183\n",
      "('role', 'batsman') <class 'tuple'> role ----> batsman\n",
      "('runs', 10000) <class 'tuple'> runs ----> 10000\n"
     ]
    }
   ],
   "source": [
    "x={'name': 'Dhoni', 'matches': 500, 'stumps': 495, 'highest': 183, 'role': 'batsman', 'runs': 10000}\n",
    "print(x.items())\n",
    "for d in x.items():\n",
    "    print(d,type(d),d[0],'---->',d[1])"
   ]
  },
  {
   "cell_type": "markdown",
   "metadata": {},
   "source": [
    "## Q3) From the below data\n",
    "students = {\"a\",\"b\",\"c\",\"d\",\"e\",\"f\",\"g\",\"h\"}\n",
    "dance = {\"a\",\"b\",\"c\",\"d\"}\n",
    "music = {\"e\",\"f\",\"b\",\"c\"}\n",
    "\n",
    "party of dance + music\n",
    "\n",
    "## USE SET to solve:\n",
    "### a) which love both music and dance?\n",
    "### b) which love nothing?\n",
    "\n",
    "### Intuition: Use builtin set functions"
   ]
  },
  {
   "cell_type": "code",
   "execution_count": 26,
   "metadata": {},
   "outputs": [
    {
     "name": "stdout",
     "output_type": "stream",
     "text": [
      "{'b', 'c'}\n",
      "{'a', 'b', 'f', 'd', 'e', 'c'}\n",
      "{'g', 'h'}\n"
     ]
    }
   ],
   "source": [
    "students = {\"a\",\"b\",\"c\",\"d\",\"e\",\"f\",\"g\",\"h\"}\n",
    "dance = {\"a\",\"b\",\"c\",\"d\"}\n",
    "music = {\"e\",\"f\",\"b\",\"c\"}\n",
    "\n",
    "x = dance.intersection(music)\n",
    "print(x)\n",
    "\n",
    "danceAndmusic = dance.union(music)\n",
    "print(danceAndmusic)\n",
    "\n",
    "loveNothing = students.difference(danceAndmusic)\n",
    "\n",
    "print(loveNothing)"
   ]
  },
  {
   "cell_type": "markdown",
   "metadata": {},
   "source": [
    "## Q4) Find the max appearing char by using sets.\n",
    "s = \"arrcaaaaccffffqqqqqqqqqqqqqqqqqqqqq\"\n",
    "\n",
    "### Pseudocode:\n",
    "    1.)Make a copy of unique elements from the string.\n",
    "    2.)Iterate over those and count the occurence in the string."
   ]
  },
  {
   "cell_type": "code",
   "execution_count": null,
   "metadata": {},
   "outputs": [],
   "source": [
    "10 minutes:\n",
    "20:28"
   ]
  },
  {
   "cell_type": "code",
   "execution_count": 44,
   "metadata": {},
   "outputs": [
    {
     "name": "stdout",
     "output_type": "stream",
     "text": [
      "{'a': 5, 'r': 2, 'c': 3, 'f': 4, 'q': 21}\n",
      "q\n"
     ]
    }
   ],
   "source": [
    "#first\n",
    "\n",
    "s = \"arrcaaaaccffffqqqqqqqqqqqqqqqqqqqqq\"\n",
    "d={}\n",
    "for i in s:\n",
    "    d[i] = s.count(i)\n",
    "print(d)   \n",
    "\n",
    "max_value = max(d.values())\n",
    "for i in d:\n",
    "    if d[i] == max_value:\n",
    "        print(i)"
   ]
  },
  {
   "cell_type": "code",
   "execution_count": 42,
   "metadata": {},
   "outputs": [
    {
     "name": "stdout",
     "output_type": "stream",
     "text": [
      "{'a': 5}\n"
     ]
    }
   ],
   "source": [
    "d = {}\n",
    "d[i] = s.count(i)\n",
    "print(d)"
   ]
  },
  {
   "cell_type": "code",
   "execution_count": 39,
   "metadata": {},
   "outputs": [
    {
     "data": {
      "text/plain": [
       "dict_values([5, 2, 3, 4, 21])"
      ]
     },
     "execution_count": 39,
     "metadata": {},
     "output_type": "execute_result"
    }
   ],
   "source": [
    "d.values()"
   ]
  },
  {
   "cell_type": "code",
   "execution_count": 41,
   "metadata": {},
   "outputs": [
    {
     "name": "stdout",
     "output_type": "stream",
     "text": [
      "5\n",
      "{'a': 5, 'q': 21, 'f': 4, 'r': 2, 'c': 3}\n",
      "q\n"
     ]
    }
   ],
   "source": [
    "#second\n",
    "s = \"arrcaaaaccffffqqqqqqqqqqqqqqqqqqqqq\"\n",
    "d={}\n",
    "s1 = set(s)\n",
    "count = 0\n",
    "for i in s1:\n",
    "    count+=1\n",
    "    d[i] = s.count(i)\n",
    "print(count)\n",
    "print(d)   \n",
    "\n",
    "max_value = max(d.values())\n",
    "for i in d:\n",
    "    if d[i] == max_value:\n",
    "        print(i)"
   ]
  },
  {
   "cell_type": "code",
   "execution_count": null,
   "metadata": {},
   "outputs": [],
   "source": [
    "Hackerrank and solve easy questions.\n",
    "https://leetcode.com/explore/learn/card/fun-with-arrays/521/introduction/3238/"
   ]
  }
 ],
 "metadata": {
  "kernelspec": {
   "display_name": "Python 3",
   "language": "python",
   "name": "python3"
  },
  "language_info": {
   "codemirror_mode": {
    "name": "ipython",
    "version": 3
   },
   "file_extension": ".py",
   "mimetype": "text/x-python",
   "name": "python",
   "nbconvert_exporter": "python",
   "pygments_lexer": "ipython3",
   "version": "3.8.3"
  }
 },
 "nbformat": 4,
 "nbformat_minor": 4
}

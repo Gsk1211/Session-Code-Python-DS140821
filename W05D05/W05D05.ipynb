{
 "cells": [
  {
   "cell_type": "code",
   "execution_count": 1,
   "metadata": {},
   "outputs": [
    {
     "data": {
      "text/plain": [
       "97"
      ]
     },
     "execution_count": 1,
     "metadata": {},
     "output_type": "execute_result"
    }
   ],
   "source": [
    "ord('a')"
   ]
  },
  {
   "cell_type": "code",
   "execution_count": 4,
   "metadata": {},
   "outputs": [
    {
     "data": {
      "text/plain": [
       "65"
      ]
     },
     "execution_count": 4,
     "metadata": {},
     "output_type": "execute_result"
    }
   ],
   "source": [
    "ord('A')"
   ]
  },
  {
   "cell_type": "code",
   "execution_count": null,
   "metadata": {},
   "outputs": [],
   "source": [
    "[A-z]"
   ]
  },
  {
   "cell_type": "code",
   "execution_count": null,
   "metadata": {},
   "outputs": [],
   "source": [
    "## Metacharacters\n",
    "\n",
    ". (dot) => matches with all the char(alphabets,digits,special symols,etc) except\n",
    "the new line character('\\n')\n",
    "single dot means single char and char could be anything as mentioned above.\n",
    "\n",
    "[] => Character Class. A set of chars\n",
    "[A-Z] => all the capital alphabets from A TO Z (single occurence)\n",
    "[a-z] => all the lowecase ones.\n",
    "[0-9] => all the digits single occurence.\n",
    "[A-Za-z] => both lowecase and uppercase.\n",
    "[@#Mt] => either @,#,M or t\n",
    "[a-z0-9] => all lower and digits\n",
    " \n",
    "Quantifiers:\n",
    " + => atleast 1 or more occurence (for example [0-9]+ means that it is going \n",
    "to match a single digit or more than 1 digit)\n",
    " * => 0 or more occurence (for example [0-9]* means that it is going to \n",
    "match nothing or more than 0 occurence of a digit.)\n",
    " \n",
    " do we have '[0-9]*' in 'apple'? Yes\n",
    " \n",
    " ? => Optinal (once or not at all) (for example [0-9]? means that a digit\n",
    "will appear either 0 or 1 times.)\n",
    " \n",
    "Anchors:\n",
    " ^ => start of the string\n",
    " $ => end of the string\n",
    " \n",
    " \n",
    "{} => counting stuff\n",
    " \n",
    "[a-z]{2} => 2 times exactly\n",
    "[0-9]{3} => exactly 3 times\n",
    "[A-Z]{3,5} => should occur either 3,4 or 5 times.\n",
    " \n",
    "\n",
    "^ => compliment (reversal)\n",
    " \n",
    "[^0-9] => everything except no from 0-9 will be a match.\n",
    " \n",
    "# Only 9 metacharacters are in this list."
   ]
  },
  {
   "cell_type": "code",
   "execution_count": 5,
   "metadata": {},
   "outputs": [
    {
     "name": "stdout",
     "output_type": "stream",
     "text": [
      "<re.Match object; span=(16, 18), match='ds'>\n"
     ]
    }
   ],
   "source": [
    "import re\n",
    "regx = '[a-z]{2}'\n",
    "print(re.search(regx,'8Ma@#%#$^#$%$%#$dsjidfsljdfsj3480934898999\\n'))"
   ]
  },
  {
   "cell_type": "code",
   "execution_count": null,
   "metadata": {},
   "outputs": [],
   "source": [
    "'[a-z]'"
   ]
  },
  {
   "cell_type": "code",
   "execution_count": 6,
   "metadata": {},
   "outputs": [
    {
     "name": "stdout",
     "output_type": "stream",
     "text": [
      "<re.Match object; span=(2, 3), match='a'>\n"
     ]
    }
   ],
   "source": [
    "regx = '[a-z]'\n",
    "print(re.search(regx,'8Ma@#%#$^#$%$%#$dsjidfsljdfsj3480934898999\\n'))"
   ]
  },
  {
   "cell_type": "code",
   "execution_count": 7,
   "metadata": {},
   "outputs": [
    {
     "name": "stdout",
     "output_type": "stream",
     "text": [
      "['a', 'd', 's', 'j', 'i', 'd', 'f', 's', 'l', 'j', 'd', 'f', 's', 'j']\n"
     ]
    }
   ],
   "source": [
    "regx = '[a-z]+'\n",
    "print(re.search(regx,'8Ma@#%#$^#$%$%#$dsjidfsljdfsj3480934898999\\n'))"
   ]
  },
  {
   "cell_type": "code",
   "execution_count": 8,
   "metadata": {},
   "outputs": [
    {
     "name": "stdout",
     "output_type": "stream",
     "text": [
      "<re.Match object; span=(0, 5), match='apple'>\n"
     ]
    }
   ],
   "source": [
    "regx = '[a-z]+'\n",
    "# occurence of lower case alphabets together 1 or more time conitnuously.\n",
    "print(re.search(regx,'apple3mango'))"
   ]
  },
  {
   "cell_type": "code",
   "execution_count": 9,
   "metadata": {},
   "outputs": [
    {
     "name": "stdout",
     "output_type": "stream",
     "text": [
      "['apple', 'mango']\n"
     ]
    }
   ],
   "source": [
    "regx = '[a-z]+'\n",
    "# occurence of lower case alphabets together 1 or more time conitnuously.\n",
    "print(re.findall(regx,'apple3mango'))"
   ]
  },
  {
   "cell_type": "code",
   "execution_count": 10,
   "metadata": {},
   "outputs": [
    {
     "name": "stdout",
     "output_type": "stream",
     "text": [
      "<re.Match object; span=(2, 3), match='a'>\n"
     ]
    }
   ],
   "source": [
    "regx = '[a-z]+'\n",
    "print(re.search(regx,'8Ma@#%#$^#$%$%#$dsjidfsljdfsj3480934898999\\n'))"
   ]
  },
  {
   "cell_type": "code",
   "execution_count": null,
   "metadata": {},
   "outputs": [],
   "source": [
    "What is the difference between '*' and '+'  ?\n",
    "'*' 0 or more\n",
    "'+' 1 or more"
   ]
  },
  {
   "cell_type": "code",
   "execution_count": 11,
   "metadata": {},
   "outputs": [
    {
     "name": "stdout",
     "output_type": "stream",
     "text": [
      "<re.Match object; span=(0, 0), match=''>\n"
     ]
    }
   ],
   "source": [
    "regx = '[a-z]*'\n",
    "print(re.search(regx,'8Ma@#%#$^#$%$%#$dsjidfsljdfsj3480934898999\\n'))"
   ]
  },
  {
   "cell_type": "code",
   "execution_count": 12,
   "metadata": {},
   "outputs": [
    {
     "name": "stdout",
     "output_type": "stream",
     "text": [
      "<re.Match object; span=(16, 19), match='dsj'>\n"
     ]
    }
   ],
   "source": [
    "regx = '[a-z]{3}'\n",
    "# this regx means lowecase alphabets exactly 3 times.\n",
    "# apple3mango, patterns are continuous.\n",
    "print(re.search(regx,'8Ma@#%#$^#$%$%#$dsjidfsljdfsj3480934898999\\n'))"
   ]
  },
  {
   "cell_type": "code",
   "execution_count": 13,
   "metadata": {},
   "outputs": [
    {
     "name": "stdout",
     "output_type": "stream",
     "text": [
      "<re.Match object; span=(16, 20), match='dsji'>\n"
     ]
    }
   ],
   "source": [
    "regx = '[a-z]{4}'\n",
    "# this regx means lowecase alphabets exactly 4 times.\n",
    "# apple3mango, patterns are continuous.\n",
    "print(re.search(regx,'8Ma@#%#$^#$%$%#$dsjidfsljdfsj3480934898999\\n'))"
   ]
  },
  {
   "cell_type": "code",
   "execution_count": 14,
   "metadata": {},
   "outputs": [
    {
     "name": "stdout",
     "output_type": "stream",
     "text": [
      "<re.Match object; span=(2, 3), match='a'>\n"
     ]
    }
   ],
   "source": [
    "regx = '[a-z]{1}'\n",
    "# this regx means lowecase alphabets exactly 1 times.\n",
    "# apple3mango, patterns are continuous.\n",
    "print(re.search(regx,'8Ma@#%#$^#$%$%#$dsjidfsljdfsj3480934898999\\n'))"
   ]
  },
  {
   "cell_type": "code",
   "execution_count": 17,
   "metadata": {},
   "outputs": [
    {
     "name": "stdout",
     "output_type": "stream",
     "text": [
      "['dsjidfslj']\n"
     ]
    }
   ],
   "source": [
    "regx = '[a-z]{9}'\n",
    "# this regx means lowecase alphabets exactly 9 times.\n",
    "# apple3mango, patterns are continuous.\n",
    "print(re.findall(regx,'8Ma@#%#$^#$%$%#$dsjidfsljdfsj3480934898999\\n'))"
   ]
  },
  {
   "cell_type": "code",
   "execution_count": 18,
   "metadata": {},
   "outputs": [
    {
     "name": "stdout",
     "output_type": "stream",
     "text": [
      "['dsji', 'dfsl', 'jdfs']\n"
     ]
    }
   ],
   "source": [
    "regx = '[a-z]{4}'\n",
    "# this regx means lowecase alphabets exactly 4 times.\n",
    "# apple3mango, patterns are continuous.\n",
    "print(re.findall(regx,'8Ma@#%#$^#$%$%#$dsjidfsljdfsj3480934898999\\n'))"
   ]
  },
  {
   "cell_type": "code",
   "execution_count": 16,
   "metadata": {},
   "outputs": [
    {
     "data": {
      "text/plain": [
       "13"
      ]
     },
     "execution_count": 16,
     "metadata": {},
     "output_type": "execute_result"
    }
   ],
   "source": [
    "len('dsjidfsljdfsj')"
   ]
  },
  {
   "cell_type": "code",
   "execution_count": 19,
   "metadata": {},
   "outputs": [
    {
     "name": "stdout",
     "output_type": "stream",
     "text": [
      "<re.Match object; span=(2, 3), match='a'>\n"
     ]
    }
   ],
   "source": [
    "regx = '[a-z]{1,9}'\n",
    "# this regx means try to match lowecase alphabets 1 or 2 or 3 or 4 or 5 or 6\n",
    "# or 7 or 8 or 9 times.\n",
    "print(re.search(regx,'8Ma@#%#$^#$%$%#$dsjidfsljdfsj3480934898999\\n'))"
   ]
  },
  {
   "cell_type": "code",
   "execution_count": 21,
   "metadata": {},
   "outputs": [
    {
     "name": "stdout",
     "output_type": "stream",
     "text": [
      "<re.Match object; span=(16, 20), match='dsji'>\n"
     ]
    }
   ],
   "source": [
    "regx = '[a-z]{2,4}' \n",
    "# this regs means match lowecase alphabets continuously 2 to 4 times.\n",
    "# 2 times, 3 times, 4 times.\n",
    "# you don't stop untill it is not going to become a non match.\n",
    "print(re.search(regx,'8Ma@#%#$^#$%$%#$dsjidfsljdfsj3480934898999\\n'))"
   ]
  },
  {
   "cell_type": "code",
   "execution_count": 37,
   "metadata": {},
   "outputs": [
    {
     "name": "stdout",
     "output_type": "stream",
     "text": [
      "mango\n"
     ]
    }
   ],
   "source": [
    "regx = '[a-z]+'\n",
    "# occurence of lower case alphabets together 1 or more time conitnuously.\n",
    "x = re.findall(regx,'apple3mango')\n",
    "print(x[-1])"
   ]
  },
  {
   "cell_type": "code",
   "execution_count": null,
   "metadata": {},
   "outputs": [],
   "source": [
    "# Anchors\n",
    "^ => start of the string\n",
    "$ => ending of the string"
   ]
  },
  {
   "cell_type": "code",
   "execution_count": 39,
   "metadata": {},
   "outputs": [
    {
     "name": "stdout",
     "output_type": "stream",
     "text": [
      "<re.Match object; span=(0, 3), match='app'>\n"
     ]
    }
   ],
   "source": [
    "regx = '^app'\n",
    "# this regx means try to match lowecase alphabets 1 or 2 or 3 or 4 or 5 or 6\n",
    "# or 7 or 8 or 9 times.\n",
    "print(re.search(regx,'apple3mango'))"
   ]
  },
  {
   "cell_type": "code",
   "execution_count": 40,
   "metadata": {},
   "outputs": [
    {
     "name": "stdout",
     "output_type": "stream",
     "text": [
      "<re.Match object; span=(0, 3), match='app'>\n"
     ]
    }
   ],
   "source": [
    "regx = 'app'\n",
    "# this regx means try to match lowecase alphabets 1 or 2 or 3 or 4 or 5 or 6\n",
    "# or 7 or 8 or 9 times.\n",
    "print(re.search(regx,'apple3mango'))"
   ]
  },
  {
   "cell_type": "code",
   "execution_count": 41,
   "metadata": {},
   "outputs": [
    {
     "name": "stdout",
     "output_type": "stream",
     "text": [
      "None\n"
     ]
    }
   ],
   "source": [
    "regx = '^app'\n",
    "# this regx means try to match lowecase alphabets 1 or 2 or 3 or 4 or 5 or 6\n",
    "# or 7 or 8 or 9 times.\n",
    "print(re.search(regx,'mango3apple'))"
   ]
  },
  {
   "cell_type": "code",
   "execution_count": 42,
   "metadata": {},
   "outputs": [
    {
     "name": "stdout",
     "output_type": "stream",
     "text": [
      "<re.Match object; span=(6, 9), match='app'>\n"
     ]
    }
   ],
   "source": [
    "regx = 'app'\n",
    "# this regx means try to match lowecase alphabets 1 or 2 or 3 or 4 or 5 or 6\n",
    "# or 7 or 8 or 9 times.\n",
    "print(re.search(regx,'mango3apple'))"
   ]
  },
  {
   "cell_type": "code",
   "execution_count": 44,
   "metadata": {},
   "outputs": [
    {
     "name": "stdout",
     "output_type": "stream",
     "text": [
      "<re.Match object; span=(0, 3), match='app'>\n",
      "None\n",
      "None\n",
      "<re.Match object; span=(0, 3), match='app'>\n"
     ]
    }
   ],
   "source": [
    "list_of_amazing_strings = ['apple3','mango54','##apple','apple$$']\n",
    "\n",
    "regx = '^app'\n",
    "\n",
    "for i in list_of_amazing_strings:\n",
    "    print(re.search(regx,i))"
   ]
  },
  {
   "cell_type": "code",
   "execution_count": 45,
   "metadata": {},
   "outputs": [
    {
     "name": "stdout",
     "output_type": "stream",
     "text": [
      "None\n",
      "None\n",
      "<re.Match object; span=(5, 7), match='le'>\n",
      "None\n"
     ]
    }
   ],
   "source": [
    "list_of_amazing_strings = ['apple3','mango54','##apple','apple$$']\n",
    "\n",
    "regx = 'le$'\n",
    "\n",
    "for i in list_of_amazing_strings:\n",
    "    print(re.search(regx,i))"
   ]
  },
  {
   "cell_type": "code",
   "execution_count": 46,
   "metadata": {},
   "outputs": [
    {
     "name": "stdout",
     "output_type": "stream",
     "text": [
      "<re.Match object; span=(5, 6), match='3'>\n",
      "<re.Match object; span=(6, 7), match='4'>\n",
      "None\n",
      "None\n"
     ]
    }
   ],
   "source": [
    "list_of_amazing_strings = ['apple3','mango54','##apple','apple$$']\n",
    "\n",
    "regx = '[0-9]$'\n",
    "\n",
    "for i in list_of_amazing_strings:\n",
    "    print(re.search(regx,i))"
   ]
  },
  {
   "cell_type": "code",
   "execution_count": 48,
   "metadata": {},
   "outputs": [
    {
     "name": "stdout",
     "output_type": "stream",
     "text": [
      "<re.Match object; span=(0, 6), match='apple3'>\n",
      "None\n",
      "None\n",
      "None\n",
      "None\n",
      "None\n",
      "<re.Match object; span=(0, 6), match='app$$7'>\n"
     ]
    }
   ],
   "source": [
    "list_of_amazing_strings = ['apple3','mango54','##apple','apple$$','apples8',\n",
    "                           'apple88','app$$7']\n",
    "\n",
    "regx = '^app..[0-9]$'\n",
    "\n",
    "for i in list_of_amazing_strings:\n",
    "    print(re.search(regx,i))"
   ]
  },
  {
   "cell_type": "code",
   "execution_count": 51,
   "metadata": {},
   "outputs": [
    {
     "name": "stdout",
     "output_type": "stream",
     "text": [
      "<re.Match object; span=(0, 6), match='apple3'>\n",
      "No Match sorry\n",
      "No Match sorry\n",
      "No Match sorry\n",
      "<re.Match object; span=(0, 7), match='apples8'>\n",
      "<re.Match object; span=(0, 7), match='apple88'>\n",
      "<re.Match object; span=(0, 6), match='app$$7'>\n",
      "<re.Match object; span=(0, 4), match='app8'>\n",
      "<re.Match object; span=(0, 5), match='app@9'>\n",
      "<re.Match object; span=(0, 6), match='app568'>\n",
      "<re.Match object; span=(0, 37), match='appsdkjdsfkjlkjfkjfdskjdskjlf@#$#K%%9'>\n"
     ]
    }
   ],
   "source": [
    "list_of_amazing_strings = ['apple3','mango54','##apple','apple$$','apples8',\n",
    "                           'apple88','app$$7','app8','app@9','app568',\n",
    "                          'appsdkjdsfkjlkjfkjfdskjdskjlf@#$#K%%9']\n",
    "\n",
    "regx = '^app.*[0-9]$'\n",
    "\n",
    "for i in list_of_amazing_strings:\n",
    "    if re.search(regx,i):\n",
    "        print(re.search(regx,i))\n",
    "    else:\n",
    "        print('No Match sorry')"
   ]
  },
  {
   "cell_type": "code",
   "execution_count": null,
   "metadata": {},
   "outputs": [],
   "source": [
    "truthy = [23,345.456,0.9,{'python':3},'dskjdskjl',match object.]"
   ]
  },
  {
   "cell_type": "code",
   "execution_count": 52,
   "metadata": {},
   "outputs": [
    {
     "name": "stdout",
     "output_type": "stream",
     "text": [
      "None is Falsy\n"
     ]
    }
   ],
   "source": [
    "# None is falsy\n",
    "if None:\n",
    "    print('None is Truthy')\n",
    "else:\n",
    "    print('None is Falsy')"
   ]
  },
  {
   "cell_type": "code",
   "execution_count": null,
   "metadata": {},
   "outputs": [],
   "source": []
  }
 ],
 "metadata": {
  "kernelspec": {
   "display_name": "Python 3",
   "language": "python",
   "name": "python3"
  },
  "language_info": {
   "codemirror_mode": {
    "name": "ipython",
    "version": 3
   },
   "file_extension": ".py",
   "mimetype": "text/x-python",
   "name": "python",
   "nbconvert_exporter": "python",
   "pygments_lexer": "ipython3",
   "version": "3.8.3"
  }
 },
 "nbformat": 4,
 "nbformat_minor": 4
}

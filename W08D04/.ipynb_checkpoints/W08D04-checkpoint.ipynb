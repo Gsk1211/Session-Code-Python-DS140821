{
 "cells": [
  {
   "cell_type": "code",
   "execution_count": null,
   "id": "7c86300e",
   "metadata": {},
   "outputs": [],
   "source": [
    "COLLECTIONS: IT IS A MODULE WHICH CONTAINS VARIOUS ADVANCED DATA TYPES"
   ]
  },
  {
   "cell_type": "markdown",
   "id": "d878498a",
   "metadata": {},
   "source": [
    "# Deque"
   ]
  },
  {
   "cell_type": "code",
   "execution_count": 1,
   "id": "892514fa",
   "metadata": {},
   "outputs": [],
   "source": [
    "from collections import deque"
   ]
  },
  {
   "cell_type": "code",
   "execution_count": 2,
   "id": "c23d4121",
   "metadata": {},
   "outputs": [],
   "source": [
    "obj = deque([1,2,3,4])"
   ]
  },
  {
   "cell_type": "code",
   "execution_count": 3,
   "id": "5eee1704",
   "metadata": {},
   "outputs": [
    {
     "name": "stdout",
     "output_type": "stream",
     "text": [
      "deque([1, 2, 3, 4])\n"
     ]
    }
   ],
   "source": [
    "print(obj)"
   ]
  },
  {
   "cell_type": "code",
   "execution_count": 4,
   "id": "121a8ab7",
   "metadata": {},
   "outputs": [],
   "source": [
    "obj.append(5)"
   ]
  },
  {
   "cell_type": "code",
   "execution_count": 5,
   "id": "86476fe4",
   "metadata": {},
   "outputs": [
    {
     "name": "stdout",
     "output_type": "stream",
     "text": [
      "deque([1, 2, 3, 4, 5])\n"
     ]
    }
   ],
   "source": [
    "print(obj)"
   ]
  },
  {
   "cell_type": "code",
   "execution_count": 6,
   "id": "93a555e1",
   "metadata": {},
   "outputs": [],
   "source": [
    "obj.appendleft(800)"
   ]
  },
  {
   "cell_type": "code",
   "execution_count": 7,
   "id": "bbf3cc22",
   "metadata": {},
   "outputs": [
    {
     "name": "stdout",
     "output_type": "stream",
     "text": [
      "deque([800, 1, 2, 3, 4, 5])\n"
     ]
    }
   ],
   "source": [
    "print(obj)"
   ]
  },
  {
   "cell_type": "code",
   "execution_count": 8,
   "id": "d90b3c1d",
   "metadata": {},
   "outputs": [
    {
     "name": "stdout",
     "output_type": "stream",
     "text": [
      "deque([1000, 500, 800, 1, 2, 3, 4, 5])\n"
     ]
    }
   ],
   "source": [
    "list1 = [500,1000]\n",
    "obj.extendleft(list1)\n",
    "print(obj)"
   ]
  },
  {
   "cell_type": "code",
   "execution_count": 9,
   "id": "7dcc7039",
   "metadata": {},
   "outputs": [],
   "source": [
    "# indexing is possible"
   ]
  },
  {
   "cell_type": "code",
   "execution_count": 10,
   "id": "bc724f83",
   "metadata": {},
   "outputs": [
    {
     "data": {
      "text/plain": [
       "1000"
      ]
     },
     "execution_count": 10,
     "metadata": {},
     "output_type": "execute_result"
    }
   ],
   "source": [
    "obj[0]"
   ]
  },
  {
   "cell_type": "code",
   "execution_count": 11,
   "id": "f2266140",
   "metadata": {},
   "outputs": [
    {
     "data": {
      "text/plain": [
       "500"
      ]
     },
     "execution_count": 11,
     "metadata": {},
     "output_type": "execute_result"
    }
   ],
   "source": [
    "obj[1]"
   ]
  },
  {
   "cell_type": "code",
   "execution_count": 12,
   "id": "25d36792",
   "metadata": {},
   "outputs": [
    {
     "data": {
      "text/plain": [
       "800"
      ]
     },
     "execution_count": 12,
     "metadata": {},
     "output_type": "execute_result"
    }
   ],
   "source": [
    "obj[2]"
   ]
  },
  {
   "cell_type": "code",
   "execution_count": 13,
   "id": "20c1c399",
   "metadata": {},
   "outputs": [
    {
     "data": {
      "text/plain": [
       "5"
      ]
     },
     "execution_count": 13,
     "metadata": {},
     "output_type": "execute_result"
    }
   ],
   "source": [
    "obj.pop()"
   ]
  },
  {
   "cell_type": "code",
   "execution_count": 14,
   "id": "86968f02",
   "metadata": {},
   "outputs": [
    {
     "name": "stdout",
     "output_type": "stream",
     "text": [
      "deque([1000, 500, 800, 1, 2, 3, 4])\n"
     ]
    }
   ],
   "source": [
    "print(obj)"
   ]
  },
  {
   "cell_type": "code",
   "execution_count": 15,
   "id": "77194c55",
   "metadata": {},
   "outputs": [
    {
     "data": {
      "text/plain": [
       "1000"
      ]
     },
     "execution_count": 15,
     "metadata": {},
     "output_type": "execute_result"
    }
   ],
   "source": [
    "obj.popleft()"
   ]
  },
  {
   "cell_type": "code",
   "execution_count": 16,
   "id": "c3029783",
   "metadata": {},
   "outputs": [
    {
     "name": "stdout",
     "output_type": "stream",
     "text": [
      "deque([500, 800, 1, 2, 3, 4])\n"
     ]
    }
   ],
   "source": [
    "print(obj)"
   ]
  },
  {
   "cell_type": "code",
   "execution_count": 29,
   "id": "4d963a18",
   "metadata": {},
   "outputs": [
    {
     "name": "stdout",
     "output_type": "stream",
     "text": [
      "500\n",
      "800\n",
      "1\n",
      "2\n",
      "3\n",
      "4\n"
     ]
    }
   ],
   "source": [
    "for i in obj:\n",
    "    print(i)"
   ]
  },
  {
   "cell_type": "code",
   "execution_count": 30,
   "id": "24dbab89",
   "metadata": {},
   "outputs": [
    {
     "data": {
      "text/plain": [
       "4"
      ]
     },
     "execution_count": 30,
     "metadata": {},
     "output_type": "execute_result"
    }
   ],
   "source": [
    "obj[-1]"
   ]
  },
  {
   "cell_type": "markdown",
   "id": "0920bf9c",
   "metadata": {},
   "source": [
    "# Counter"
   ]
  },
  {
   "cell_type": "code",
   "execution_count": 17,
   "id": "21b7ea84",
   "metadata": {},
   "outputs": [],
   "source": [
    "from collections import Counter"
   ]
  },
  {
   "cell_type": "code",
   "execution_count": 19,
   "id": "940c56c5",
   "metadata": {},
   "outputs": [
    {
     "name": "stdout",
     "output_type": "stream",
     "text": [
      "Counter({60: 4, 10: 3, 20: 2, 30: 2, 40: 2, 50: 2})\n"
     ]
    }
   ],
   "source": [
    "l = [10,10,20,30,40,50,10,20,30,40,50,60,60,60,60]\n",
    "c = Counter(l)\n",
    "print(c)"
   ]
  },
  {
   "cell_type": "code",
   "execution_count": 20,
   "id": "0c5a83ff",
   "metadata": {},
   "outputs": [
    {
     "data": {
      "text/plain": [
       "[(60, 4), (10, 3), (20, 2), (30, 2), (40, 2), (50, 2)]"
      ]
     },
     "execution_count": 20,
     "metadata": {},
     "output_type": "execute_result"
    }
   ],
   "source": [
    "c.most_common()"
   ]
  },
  {
   "cell_type": "code",
   "execution_count": 21,
   "id": "b31d0a68",
   "metadata": {},
   "outputs": [
    {
     "name": "stdout",
     "output_type": "stream",
     "text": [
      "Counter({'python': 3, 'java': 2, 'c': 1, 'c++': 1})\n"
     ]
    }
   ],
   "source": [
    "s = 'python,java,c,python,c++,java,python'\n",
    "\n",
    "test_list = s.split(',')\n",
    "c = Counter(test_list)\n",
    "print(c)"
   ]
  },
  {
   "cell_type": "code",
   "execution_count": 22,
   "id": "38688062",
   "metadata": {},
   "outputs": [
    {
     "data": {
      "text/plain": [
       "collections.Counter"
      ]
     },
     "execution_count": 22,
     "metadata": {},
     "output_type": "execute_result"
    }
   ],
   "source": [
    "type(c)"
   ]
  },
  {
   "cell_type": "code",
   "execution_count": 23,
   "id": "4c70437d",
   "metadata": {},
   "outputs": [
    {
     "name": "stdout",
     "output_type": "stream",
     "text": [
      "Counter({'b': 5, 'd': 5, 'c': 4, 'a': 1})\n"
     ]
    }
   ],
   "source": [
    "c = Counter('accccbbbbbddddd')\n",
    "print(c)"
   ]
  },
  {
   "cell_type": "code",
   "execution_count": 24,
   "id": "97e47c83",
   "metadata": {},
   "outputs": [],
   "source": [
    "c.subtract('abbccdd')"
   ]
  },
  {
   "cell_type": "code",
   "execution_count": 25,
   "id": "d9c8c569",
   "metadata": {},
   "outputs": [
    {
     "name": "stdout",
     "output_type": "stream",
     "text": [
      "Counter({'b': 3, 'd': 3, 'c': 2, 'a': 0})\n"
     ]
    }
   ],
   "source": [
    "print(c)"
   ]
  },
  {
   "cell_type": "code",
   "execution_count": 28,
   "id": "f6a0c07c",
   "metadata": {},
   "outputs": [
    {
     "data": {
      "text/plain": [
       "Counter({'c': 2, 'b': 3, 'd': 3, 'm': 1, 'n': 1, 'o': 1, 'p': 1})"
      ]
     },
     "execution_count": 28,
     "metadata": {},
     "output_type": "execute_result"
    }
   ],
   "source": [
    "c + Counter('mnop')"
   ]
  },
  {
   "cell_type": "code",
   "execution_count": 143,
   "id": "98907d34",
   "metadata": {},
   "outputs": [],
   "source": [
    "# help(c)"
   ]
  },
  {
   "cell_type": "code",
   "execution_count": 31,
   "id": "d3975b9f",
   "metadata": {},
   "outputs": [],
   "source": [
    "c = Counter('the quick brown fox jumps over a lazy dog')"
   ]
  },
  {
   "cell_type": "code",
   "execution_count": 32,
   "id": "8815666e",
   "metadata": {},
   "outputs": [
    {
     "name": "stdout",
     "output_type": "stream",
     "text": [
      "Counter({' ': 8, 'o': 4, 'e': 2, 'u': 2, 'r': 2, 'a': 2, 't': 1, 'h': 1, 'q': 1, 'i': 1, 'c': 1, 'k': 1, 'b': 1, 'w': 1, 'n': 1, 'f': 1, 'x': 1, 'j': 1, 'm': 1, 'p': 1, 's': 1, 'v': 1, 'l': 1, 'z': 1, 'y': 1, 'd': 1, 'g': 1})\n"
     ]
    }
   ],
   "source": [
    "print(c)"
   ]
  },
  {
   "cell_type": "code",
   "execution_count": 33,
   "id": "b1ab9414",
   "metadata": {},
   "outputs": [],
   "source": [
    "c = Counter('aabb')"
   ]
  },
  {
   "cell_type": "code",
   "execution_count": 34,
   "id": "fbdfa1ff",
   "metadata": {},
   "outputs": [
    {
     "name": "stdout",
     "output_type": "stream",
     "text": [
      "Counter({'a': 2, 'b': 2})\n"
     ]
    }
   ],
   "source": [
    "print(c)"
   ]
  },
  {
   "cell_type": "code",
   "execution_count": 36,
   "id": "7a8674f1",
   "metadata": {},
   "outputs": [],
   "source": [
    "c.subtract('aa')"
   ]
  },
  {
   "cell_type": "code",
   "execution_count": 37,
   "id": "55d52e0b",
   "metadata": {},
   "outputs": [
    {
     "name": "stdout",
     "output_type": "stream",
     "text": [
      "Counter({'b': 2, 'a': 0})\n"
     ]
    }
   ],
   "source": [
    "print(c)"
   ]
  },
  {
   "cell_type": "code",
   "execution_count": 42,
   "id": "c29ea532",
   "metadata": {},
   "outputs": [
    {
     "data": {
      "text/plain": [
       "[('b', 2)]"
      ]
     },
     "execution_count": 42,
     "metadata": {},
     "output_type": "execute_result"
    }
   ],
   "source": [
    "c.most_common(1)"
   ]
  },
  {
   "cell_type": "code",
   "execution_count": 43,
   "id": "773a9847",
   "metadata": {},
   "outputs": [],
   "source": [
    "c = Counter('aabbcccddd')"
   ]
  },
  {
   "cell_type": "code",
   "execution_count": 45,
   "id": "4185656c",
   "metadata": {},
   "outputs": [
    {
     "data": {
      "text/plain": [
       "[('c', 3), ('d', 3)]"
      ]
     },
     "execution_count": 45,
     "metadata": {},
     "output_type": "execute_result"
    }
   ],
   "source": [
    "c.most_common(2)"
   ]
  },
  {
   "cell_type": "code",
   "execution_count": 46,
   "id": "d4a1b25c",
   "metadata": {},
   "outputs": [],
   "source": [
    "c = Counter('aabb')"
   ]
  },
  {
   "cell_type": "code",
   "execution_count": 47,
   "id": "24df48c9",
   "metadata": {},
   "outputs": [],
   "source": [
    "c.subtract('ab')"
   ]
  },
  {
   "cell_type": "code",
   "execution_count": 48,
   "id": "35ac3d00",
   "metadata": {},
   "outputs": [
    {
     "name": "stdout",
     "output_type": "stream",
     "text": [
      "Counter({'a': 1, 'b': 1})\n"
     ]
    }
   ],
   "source": [
    "print(c)"
   ]
  },
  {
   "cell_type": "markdown",
   "id": "75d1624c",
   "metadata": {},
   "source": [
    "# help(c)"
   ]
  },
  {
   "cell_type": "markdown",
   "id": "b9384c07",
   "metadata": {},
   "source": [
    "# OrderedDict"
   ]
  },
  {
   "cell_type": "code",
   "execution_count": 50,
   "id": "74609ec3",
   "metadata": {},
   "outputs": [],
   "source": [
    "from collections import OrderedDict"
   ]
  },
  {
   "cell_type": "code",
   "execution_count": 51,
   "id": "731019b2",
   "metadata": {},
   "outputs": [],
   "source": [
    "obj_dict = OrderedDict()"
   ]
  },
  {
   "cell_type": "code",
   "execution_count": 52,
   "id": "2d68d7d1",
   "metadata": {},
   "outputs": [
    {
     "data": {
      "text/plain": [
       "collections.OrderedDict"
      ]
     },
     "execution_count": 52,
     "metadata": {},
     "output_type": "execute_result"
    }
   ],
   "source": [
    "type(obj_dict)"
   ]
  },
  {
   "cell_type": "code",
   "execution_count": 53,
   "id": "c4823869",
   "metadata": {},
   "outputs": [],
   "source": [
    "obj_dict['python'] = 3\n",
    "obj_dict['java'] = 8\n",
    "obj_dict['django'] = 2"
   ]
  },
  {
   "cell_type": "code",
   "execution_count": 54,
   "id": "762c5183",
   "metadata": {},
   "outputs": [
    {
     "name": "stdout",
     "output_type": "stream",
     "text": [
      "OrderedDict([('python', 3), ('java', 8), ('django', 2)])\n"
     ]
    }
   ],
   "source": [
    "print(obj_dict)"
   ]
  },
  {
   "cell_type": "code",
   "execution_count": 55,
   "id": "d27e6ca9",
   "metadata": {},
   "outputs": [],
   "source": [
    "# Because things are ordered here in ordereddict."
   ]
  },
  {
   "cell_type": "code",
   "execution_count": 56,
   "id": "c33d7e26",
   "metadata": {},
   "outputs": [
    {
     "data": {
      "text/plain": [
       "True"
      ]
     },
     "execution_count": 56,
     "metadata": {},
     "output_type": "execute_result"
    }
   ],
   "source": [
    "dict([(1,1),(2,2)]) == dict([(2,2),(1,1)])"
   ]
  },
  {
   "cell_type": "code",
   "execution_count": 57,
   "id": "3ced107b",
   "metadata": {},
   "outputs": [
    {
     "data": {
      "text/plain": [
       "False"
      ]
     },
     "execution_count": 57,
     "metadata": {},
     "output_type": "execute_result"
    }
   ],
   "source": [
    "OrderedDict([(1,1),(2,2)]) == OrderedDict([(2,2),(1,1)])"
   ]
  },
  {
   "cell_type": "code",
   "execution_count": 58,
   "id": "80ceafc3",
   "metadata": {},
   "outputs": [
    {
     "data": {
      "text/plain": [
       "True"
      ]
     },
     "execution_count": 58,
     "metadata": {},
     "output_type": "execute_result"
    }
   ],
   "source": [
    "OrderedDict([(1,1),(2,2)]) == OrderedDict([(1,1),(2,2)])"
   ]
  },
  {
   "cell_type": "code",
   "execution_count": 59,
   "id": "5a97b8f9",
   "metadata": {},
   "outputs": [
    {
     "data": {
      "text/plain": [
       "{1: 1, 2: 2}"
      ]
     },
     "execution_count": 59,
     "metadata": {},
     "output_type": "execute_result"
    }
   ],
   "source": [
    "dict([(1,1),(2,2)])"
   ]
  },
  {
   "cell_type": "code",
   "execution_count": 100,
   "id": "b695946f",
   "metadata": {},
   "outputs": [
    {
     "name": "stdout",
     "output_type": "stream",
     "text": [
      "OrderedDict([('python', 3), ('django', 2), ('pandas', 1), ('numpy', 1)])\n"
     ]
    }
   ],
   "source": [
    "d1 = OrderedDict([('python',3),('django',2),('pandas',1)])\n",
    "d1.update({'numpy':1})\n",
    "print(d1)"
   ]
  },
  {
   "cell_type": "code",
   "execution_count": 61,
   "id": "5b64da17",
   "metadata": {},
   "outputs": [],
   "source": [
    "d1.move_to_end('numpy',last=False)"
   ]
  },
  {
   "cell_type": "code",
   "execution_count": 109,
   "id": "e7bc8a44",
   "metadata": {},
   "outputs": [
    {
     "name": "stdout",
     "output_type": "stream",
     "text": [
      "numpy\n",
      "pandas\n",
      "django\n",
      "python\n"
     ]
    }
   ],
   "source": [
    "x = reversed(d1)\n",
    "for key in x:\n",
    "    print(key)"
   ]
  },
  {
   "cell_type": "code",
   "execution_count": 62,
   "id": "b6611b99",
   "metadata": {},
   "outputs": [
    {
     "name": "stdout",
     "output_type": "stream",
     "text": [
      "OrderedDict([('numpy', 1), ('python', 3), ('django', 2), ('pandas', 1)])\n"
     ]
    }
   ],
   "source": [
    "print(d1)"
   ]
  },
  {
   "cell_type": "code",
   "execution_count": 64,
   "id": "35a23dd5",
   "metadata": {},
   "outputs": [
    {
     "name": "stdout",
     "output_type": "stream",
     "text": [
      "key  numpy  value =  1\n",
      "key  python  value =  3\n",
      "key  django  value =  2\n",
      "key  pandas  value =  1\n"
     ]
    }
   ],
   "source": [
    "for key,value in d1.items():\n",
    "    print('key ',key,' value = ',value)"
   ]
  },
  {
   "cell_type": "code",
   "execution_count": 144,
   "id": "d4ff8880",
   "metadata": {},
   "outputs": [],
   "source": [
    "# help(d1)"
   ]
  },
  {
   "cell_type": "markdown",
   "id": "926e8a29",
   "metadata": {},
   "source": [
    "# DATETIME"
   ]
  },
  {
   "cell_type": "code",
   "execution_count": 66,
   "id": "3e0452d6",
   "metadata": {},
   "outputs": [],
   "source": [
    "import datetime"
   ]
  },
  {
   "cell_type": "code",
   "execution_count": 67,
   "id": "36bdad1d",
   "metadata": {},
   "outputs": [],
   "source": [
    "datetime_obj = datetime.datetime.now()"
   ]
  },
  {
   "cell_type": "code",
   "execution_count": 68,
   "id": "2ddbcae3",
   "metadata": {},
   "outputs": [
    {
     "name": "stdout",
     "output_type": "stream",
     "text": [
      "2021-10-07 20:15:06.022334\n"
     ]
    }
   ],
   "source": [
    "print(datetime_obj)"
   ]
  },
  {
   "cell_type": "code",
   "execution_count": 69,
   "id": "b5a9db2a",
   "metadata": {},
   "outputs": [],
   "source": [
    "date_obj = datetime.date.today()"
   ]
  },
  {
   "cell_type": "code",
   "execution_count": 70,
   "id": "b430399a",
   "metadata": {},
   "outputs": [
    {
     "name": "stdout",
     "output_type": "stream",
     "text": [
      "2021-10-07\n"
     ]
    }
   ],
   "source": [
    "print(date_obj)"
   ]
  },
  {
   "cell_type": "code",
   "execution_count": 71,
   "id": "ed6882d1",
   "metadata": {},
   "outputs": [
    {
     "name": "stdout",
     "output_type": "stream",
     "text": [
      "1997-04-28\n"
     ]
    }
   ],
   "source": [
    "d = datetime.date(1997, 4, 28)\n",
    "print(d)"
   ]
  },
  {
   "cell_type": "code",
   "execution_count": 72,
   "id": "0fb02de9",
   "metadata": {},
   "outputs": [
    {
     "data": {
      "text/plain": [
       "1997"
      ]
     },
     "execution_count": 72,
     "metadata": {},
     "output_type": "execute_result"
    }
   ],
   "source": [
    "d.year"
   ]
  },
  {
   "cell_type": "code",
   "execution_count": 73,
   "id": "d456aea9",
   "metadata": {},
   "outputs": [
    {
     "data": {
      "text/plain": [
       "4"
      ]
     },
     "execution_count": 73,
     "metadata": {},
     "output_type": "execute_result"
    }
   ],
   "source": [
    "d.month"
   ]
  },
  {
   "cell_type": "code",
   "execution_count": 74,
   "id": "a421ed81",
   "metadata": {},
   "outputs": [
    {
     "data": {
      "text/plain": [
       "28"
      ]
     },
     "execution_count": 74,
     "metadata": {},
     "output_type": "execute_result"
    }
   ],
   "source": [
    "d.day"
   ]
  },
  {
   "cell_type": "code",
   "execution_count": null,
   "id": "2fbde4b6",
   "metadata": {},
   "outputs": [],
   "source": [
    "Get date from a timestamp\n",
    "\n",
    "We can also create date objects from a timestamp. A unix timestamp is the\n",
    "number of seconds between a particular date and January 1, 1970 at UTC.\n",
    "You can convert a timestamp to date using fromtimestamp() method."
   ]
  },
  {
   "cell_type": "code",
   "execution_count": 81,
   "id": "71c0468b",
   "metadata": {},
   "outputs": [],
   "source": [
    "from datetime import date\n",
    "# timestamp = 1633567431\n",
    "date_on_that_timestamp = date.fromtimestamp(1633567431)"
   ]
  },
  {
   "cell_type": "code",
   "execution_count": 82,
   "id": "1f0bfca0",
   "metadata": {},
   "outputs": [
    {
     "data": {
      "text/plain": [
       "2021"
      ]
     },
     "execution_count": 82,
     "metadata": {},
     "output_type": "execute_result"
    }
   ],
   "source": [
    "date_on_that_timestamp.year"
   ]
  },
  {
   "cell_type": "code",
   "execution_count": 83,
   "id": "59f6a07e",
   "metadata": {},
   "outputs": [
    {
     "data": {
      "text/plain": [
       "10"
      ]
     },
     "execution_count": 83,
     "metadata": {},
     "output_type": "execute_result"
    }
   ],
   "source": [
    "date_on_that_timestamp.month"
   ]
  },
  {
   "cell_type": "code",
   "execution_count": 84,
   "id": "7608beac",
   "metadata": {},
   "outputs": [
    {
     "data": {
      "text/plain": [
       "7"
      ]
     },
     "execution_count": 84,
     "metadata": {},
     "output_type": "execute_result"
    }
   ],
   "source": [
    "date_on_that_timestamp.day"
   ]
  },
  {
   "cell_type": "code",
   "execution_count": 85,
   "id": "d31884fe",
   "metadata": {},
   "outputs": [
    {
     "data": {
      "text/plain": [
       "86400"
      ]
     },
     "execution_count": 85,
     "metadata": {},
     "output_type": "execute_result"
    }
   ],
   "source": [
    "24*60*60"
   ]
  },
  {
   "cell_type": "code",
   "execution_count": 86,
   "id": "65519c0b",
   "metadata": {},
   "outputs": [
    {
     "data": {
      "text/plain": [
       "1633481031"
      ]
     },
     "execution_count": 86,
     "metadata": {},
     "output_type": "execute_result"
    }
   ],
   "source": [
    "1633567431 - 86400"
   ]
  },
  {
   "cell_type": "code",
   "execution_count": 90,
   "id": "34d71779",
   "metadata": {},
   "outputs": [],
   "source": [
    "date_on_that_timestamp_2 = date.fromtimestamp(1633481031)"
   ]
  },
  {
   "cell_type": "code",
   "execution_count": 91,
   "id": "b68e8844",
   "metadata": {},
   "outputs": [
    {
     "data": {
      "text/plain": [
       "6"
      ]
     },
     "execution_count": 91,
     "metadata": {},
     "output_type": "execute_result"
    }
   ],
   "source": [
    "date_on_that_timestamp_2.day"
   ]
  },
  {
   "cell_type": "code",
   "execution_count": 92,
   "id": "d0af816a",
   "metadata": {},
   "outputs": [
    {
     "data": {
      "text/plain": [
       "10"
      ]
     },
     "execution_count": 92,
     "metadata": {},
     "output_type": "execute_result"
    }
   ],
   "source": [
    "date_on_that_timestamp_2.month"
   ]
  },
  {
   "cell_type": "code",
   "execution_count": 93,
   "id": "6696ab54",
   "metadata": {},
   "outputs": [
    {
     "data": {
      "text/plain": [
       "2021"
      ]
     },
     "execution_count": 93,
     "metadata": {},
     "output_type": "execute_result"
    }
   ],
   "source": [
    "date_on_that_timestamp_2.year"
   ]
  },
  {
   "cell_type": "markdown",
   "id": "9142d2f7",
   "metadata": {},
   "source": [
    "# Time Difference"
   ]
  },
  {
   "cell_type": "code",
   "execution_count": 94,
   "id": "530ac259",
   "metadata": {},
   "outputs": [],
   "source": [
    "from datetime import datetime, date"
   ]
  },
  {
   "cell_type": "code",
   "execution_count": 95,
   "id": "72bed851",
   "metadata": {},
   "outputs": [],
   "source": [
    "t1 = date(year = 2019, month = 4, day = 28)\n",
    "t2 = date(year = 2016, month = 12, day = 1)\n",
    "\n",
    "t3 = t1-t2"
   ]
  },
  {
   "cell_type": "code",
   "execution_count": 96,
   "id": "f523dd2b",
   "metadata": {},
   "outputs": [
    {
     "name": "stdout",
     "output_type": "stream",
     "text": [
      "878 days, 0:00:00\n"
     ]
    }
   ],
   "source": [
    "print(t3)"
   ]
  },
  {
   "cell_type": "code",
   "execution_count": 97,
   "id": "26dbc229",
   "metadata": {},
   "outputs": [],
   "source": [
    "t3 = datetime(year = 2019, month = 4, day = 28, hour=12, minute=10,second=30)\n",
    "t4 = datetime(year = 2016, month = 12, day = 1, hour=11, minute=9,second=40)"
   ]
  },
  {
   "cell_type": "code",
   "execution_count": 98,
   "id": "bc1cafce",
   "metadata": {},
   "outputs": [],
   "source": [
    "t5 = t3-t4"
   ]
  },
  {
   "cell_type": "code",
   "execution_count": 99,
   "id": "703a3b34",
   "metadata": {},
   "outputs": [
    {
     "name": "stdout",
     "output_type": "stream",
     "text": [
      "878 days, 1:00:50\n"
     ]
    }
   ],
   "source": [
    "print(t5)"
   ]
  },
  {
   "cell_type": "code",
   "execution_count": 111,
   "id": "511ab6a6",
   "metadata": {},
   "outputs": [
    {
     "data": {
      "text/plain": [
       "0"
      ]
     },
     "execution_count": 111,
     "metadata": {},
     "output_type": "execute_result"
    }
   ],
   "source": [
    "import datetime\n",
    "d = datetime.date(1997, 4, 28)\n",
    "d.weekday()"
   ]
  },
  {
   "cell_type": "code",
   "execution_count": 112,
   "id": "0cf03179",
   "metadata": {},
   "outputs": [],
   "source": [
    "def wrapper_date(mm,dd,yyyy):\n",
    "    return datetime.date(yyyy,mm,dd)"
   ]
  },
  {
   "cell_type": "code",
   "execution_count": 114,
   "id": "e5ad920e",
   "metadata": {},
   "outputs": [],
   "source": [
    "x = wrapper_date(4,28,1997)"
   ]
  },
  {
   "cell_type": "code",
   "execution_count": 117,
   "id": "98e10bd1",
   "metadata": {},
   "outputs": [
    {
     "data": {
      "text/plain": [
       "'28 April 1997 was a Monday'"
      ]
     },
     "execution_count": 117,
     "metadata": {},
     "output_type": "execute_result"
    }
   ],
   "source": [
    "x.strftime(\"%d %B %Y was a %A\")"
   ]
  },
  {
   "cell_type": "code",
   "execution_count": 118,
   "id": "5c826092",
   "metadata": {},
   "outputs": [],
   "source": [
    "import time\n",
    "ts = time.time()"
   ]
  },
  {
   "cell_type": "code",
   "execution_count": 119,
   "id": "f317be31",
   "metadata": {},
   "outputs": [
    {
     "name": "stdout",
     "output_type": "stream",
     "text": [
      "1633619580.36356\n"
     ]
    }
   ],
   "source": [
    "print(ts)"
   ]
  },
  {
   "cell_type": "code",
   "execution_count": 120,
   "id": "92ed2384",
   "metadata": {},
   "outputs": [
    {
     "name": "stdout",
     "output_type": "stream",
     "text": [
      "timestamp = 1633619614.794446\n"
     ]
    }
   ],
   "source": [
    "from datetime import datetime\n",
    "\n",
    "now = datetime.now()\n",
    "\n",
    "timestamp = datetime.timestamp(now)\n",
    "print(\"timestamp =\", timestamp)"
   ]
  },
  {
   "cell_type": "markdown",
   "id": "75ae753e",
   "metadata": {},
   "source": [
    "# timestamp for a specific date in python"
   ]
  },
  {
   "cell_type": "code",
   "execution_count": 121,
   "id": "e22b8b79",
   "metadata": {},
   "outputs": [
    {
     "name": "stdout",
     "output_type": "stream",
     "text": [
      "862165800.0\n"
     ]
    }
   ],
   "source": [
    "import time\n",
    "import datetime\n",
    "  \n",
    "  \n",
    "string = \"28/04/1997\"\n",
    "print(time.mktime(datetime.datetime.strptime(string,\n",
    "                                             \"%d/%m/%Y\").timetuple()))"
   ]
  },
  {
   "cell_type": "code",
   "execution_count": 122,
   "id": "1117896e",
   "metadata": {},
   "outputs": [],
   "source": [
    "date_on_that_timestamp_2 = date.fromtimestamp(862165800)"
   ]
  },
  {
   "cell_type": "code",
   "execution_count": 123,
   "id": "9490eac8",
   "metadata": {},
   "outputs": [
    {
     "data": {
      "text/plain": [
       "datetime.date(1997, 4, 28)"
      ]
     },
     "execution_count": 123,
     "metadata": {},
     "output_type": "execute_result"
    }
   ],
   "source": [
    "date_on_that_timestamp_2"
   ]
  },
  {
   "cell_type": "code",
   "execution_count": null,
   "id": "9127af7c",
   "metadata": {},
   "outputs": [],
   "source": [
    "HW:\n",
    "    calendar module\n",
    "    time module\n",
    "    datetime module -> Most imp."
   ]
  },
  {
   "cell_type": "markdown",
   "id": "44ba9844",
   "metadata": {},
   "source": [
    "# ChainMap"
   ]
  },
  {
   "cell_type": "code",
   "execution_count": 125,
   "id": "7fed344b",
   "metadata": {},
   "outputs": [],
   "source": [
    "from collections import ChainMap"
   ]
  },
  {
   "cell_type": "code",
   "execution_count": 126,
   "id": "2784cec9",
   "metadata": {},
   "outputs": [],
   "source": [
    "dict1 = {'apple':2,'mango':3}\n",
    "dict2 = {'brown':'sugar','black':'mamba'}"
   ]
  },
  {
   "cell_type": "code",
   "execution_count": 127,
   "id": "8412fde2",
   "metadata": {},
   "outputs": [],
   "source": [
    "c = ChainMap(dict1,dict2)"
   ]
  },
  {
   "cell_type": "code",
   "execution_count": 128,
   "id": "b6595596",
   "metadata": {},
   "outputs": [
    {
     "name": "stdout",
     "output_type": "stream",
     "text": [
      "ChainMap({'apple': 2, 'mango': 3}, {'brown': 'sugar', 'black': 'mamba'})\n"
     ]
    }
   ],
   "source": [
    "print(c)"
   ]
  },
  {
   "cell_type": "code",
   "execution_count": 130,
   "id": "dedc75e2",
   "metadata": {},
   "outputs": [
    {
     "name": "stdout",
     "output_type": "stream",
     "text": [
      "brown\n",
      "black\n",
      "apple\n",
      "mango\n"
     ]
    }
   ],
   "source": [
    "for x in c.keys():\n",
    "    print(x)"
   ]
  },
  {
   "cell_type": "code",
   "execution_count": 131,
   "id": "80e02491",
   "metadata": {},
   "outputs": [
    {
     "name": "stdout",
     "output_type": "stream",
     "text": [
      "sugar\n",
      "mamba\n",
      "2\n",
      "3\n"
     ]
    }
   ],
   "source": [
    "for x in c.values():\n",
    "    print(x)"
   ]
  },
  {
   "cell_type": "code",
   "execution_count": 134,
   "id": "ea8e625c",
   "metadata": {},
   "outputs": [
    {
     "name": "stdout",
     "output_type": "stream",
     "text": [
      "brown sugar\n",
      "black mamba\n",
      "apple 2\n",
      "mango 3\n"
     ]
    }
   ],
   "source": [
    "for x,y in c.items():\n",
    "    print(x,y)"
   ]
  },
  {
   "cell_type": "code",
   "execution_count": 135,
   "id": "88ec6823",
   "metadata": {},
   "outputs": [],
   "source": [
    "dict3 = {'white':'limo','grey':'ferrari'}"
   ]
  },
  {
   "cell_type": "markdown",
   "id": "2d8f9f59",
   "metadata": {},
   "source": [
    "# help(c)"
   ]
  },
  {
   "cell_type": "code",
   "execution_count": 141,
   "id": "ef63aa0b",
   "metadata": {},
   "outputs": [],
   "source": [
    "m = c.new_child(dict3)"
   ]
  },
  {
   "cell_type": "code",
   "execution_count": 142,
   "id": "c4e71f44",
   "metadata": {},
   "outputs": [
    {
     "name": "stdout",
     "output_type": "stream",
     "text": [
      "brown\n",
      "black\n",
      "apple\n",
      "mango\n",
      "white\n",
      "grey\n"
     ]
    }
   ],
   "source": [
    "for x in m.keys():\n",
    "    print(x)"
   ]
  },
  {
   "cell_type": "code",
   "execution_count": null,
   "id": "d99be706",
   "metadata": {},
   "outputs": [],
   "source": []
  }
 ],
 "metadata": {
  "kernelspec": {
   "display_name": "Python 3 (ipykernel)",
   "language": "python",
   "name": "python3"
  },
  "language_info": {
   "codemirror_mode": {
    "name": "ipython",
    "version": 3
   },
   "file_extension": ".py",
   "mimetype": "text/x-python",
   "name": "python",
   "nbconvert_exporter": "python",
   "pygments_lexer": "ipython3",
   "version": "3.8.9"
  }
 },
 "nbformat": 4,
 "nbformat_minor": 5
}

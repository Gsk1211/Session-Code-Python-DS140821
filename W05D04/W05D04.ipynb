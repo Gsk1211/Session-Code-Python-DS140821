{
 "cells": [
  {
   "cell_type": "code",
   "execution_count": null,
   "metadata": {},
   "outputs": [],
   "source": [
    "Text File Handling"
   ]
  },
  {
   "cell_type": "code",
   "execution_count": 4,
   "metadata": {},
   "outputs": [
    {
     "name": "stdout",
     "output_type": "stream",
     "text": [
      "dog\n",
      "Phoeonix\n",
      "cat\n"
     ]
    }
   ],
   "source": [
    "x = 'cat'\n",
    "tattoo = 'Dragon Fly'\n",
    "def f():\n",
    "    x = 'bird'\n",
    "    tattoo = 'KingKong Vs Godzilla'\n",
    "    def g():\n",
    "        tattoo = 'Phoeonix'\n",
    "        x = 'dog'\n",
    "        y = 'fish'\n",
    "        print(x)\n",
    "        print(tattoo)\n",
    "    g()\n",
    "f()\n",
    "print(x)\n",
    "\n",
    "# What are global names here? x,f\n",
    "# What are the local names in f? x,g\n",
    "# What are the local names in g? x,y\n",
    "\n",
    "# Search x > Order => Local Namespace(g)\n",
    "# Search tattoo > Order => Local Namespace(g) => Local Namespace(f) => \n",
    "# Global Namespace"
   ]
  },
  {
   "cell_type": "code",
   "execution_count": 6,
   "metadata": {},
   "outputs": [
    {
     "name": "stdout",
     "output_type": "stream",
     "text": [
      "dog\n",
      "Phoeonix\n",
      "Result we are looking for dog\n"
     ]
    }
   ],
   "source": [
    "x = 'cat'\n",
    "tattoo = 'Dragon Fly'\n",
    "def f():\n",
    "    global x\n",
    "    x = 'bird'\n",
    "    tattoo = 'KingKong Vs Godzilla'\n",
    "    def g():\n",
    "        global x\n",
    "        tattoo = 'Phoeonix'\n",
    "        x = 'dog'\n",
    "        y = 'fish'\n",
    "        print(x)\n",
    "        print(tattoo)\n",
    "    g()\n",
    "f()\n",
    "print('Result we are looking for',x)"
   ]
  },
  {
   "cell_type": "code",
   "execution_count": null,
   "metadata": {},
   "outputs": [],
   "source": [
    "# Text File Handling\n",
    "\n",
    "Modes:\n",
    "    w and w+\n",
    "    r and r+\n",
    "    a and a+\n",
    "    \n",
    "Q) If file is not present , create it, What modes?\n",
    "=> w,w+,a,a+\n",
    "    => Read also\n",
    "    w+,a+\n",
    "\n",
    "Q) If the file is not present , create it, but if present don't overwrite the\n",
    "content?\n",
    "=> a+,a\n",
    "    -> Read alos\n",
    "    => a+"
   ]
  },
  {
   "cell_type": "code",
   "execution_count": 19,
   "metadata": {},
   "outputs": [],
   "source": [
    "fp = open('sample.txt','a+')"
   ]
  },
  {
   "cell_type": "code",
   "execution_count": 20,
   "metadata": {},
   "outputs": [
    {
     "data": {
      "text/plain": [
       "7"
      ]
     },
     "execution_count": 20,
     "metadata": {},
     "output_type": "execute_result"
    }
   ],
   "source": [
    "fp.tell()"
   ]
  },
  {
   "cell_type": "code",
   "execution_count": 21,
   "metadata": {},
   "outputs": [
    {
     "data": {
      "text/plain": [
       "''"
      ]
     },
     "execution_count": 21,
     "metadata": {},
     "output_type": "execute_result"
    }
   ],
   "source": [
    "fp.read()"
   ]
  },
  {
   "cell_type": "code",
   "execution_count": 25,
   "metadata": {},
   "outputs": [
    {
     "data": {
      "text/plain": [
       "2"
      ]
     },
     "execution_count": 25,
     "metadata": {},
     "output_type": "execute_result"
    }
   ],
   "source": [
    "fp.seek(fp.tell()+2)"
   ]
  },
  {
   "cell_type": "code",
   "execution_count": 26,
   "metadata": {},
   "outputs": [
    {
     "data": {
      "text/plain": [
       "'\\nb\\nc'"
      ]
     },
     "execution_count": 26,
     "metadata": {},
     "output_type": "execute_result"
    }
   ],
   "source": [
    "fp.read()"
   ]
  },
  {
   "cell_type": "code",
   "execution_count": 27,
   "metadata": {},
   "outputs": [
    {
     "data": {
      "text/plain": [
       "7"
      ]
     },
     "execution_count": 27,
     "metadata": {},
     "output_type": "execute_result"
    }
   ],
   "source": [
    "fp.tell()"
   ]
  },
  {
   "cell_type": "code",
   "execution_count": 28,
   "metadata": {},
   "outputs": [],
   "source": [
    "fp.close()"
   ]
  },
  {
   "cell_type": "code",
   "execution_count": 29,
   "metadata": {},
   "outputs": [],
   "source": [
    "fp = open('sample.txt','a')"
   ]
  },
  {
   "cell_type": "code",
   "execution_count": 30,
   "metadata": {},
   "outputs": [
    {
     "data": {
      "text/plain": [
       "7"
      ]
     },
     "execution_count": 30,
     "metadata": {},
     "output_type": "execute_result"
    }
   ],
   "source": [
    "fp.tell()"
   ]
  },
  {
   "cell_type": "code",
   "execution_count": 31,
   "metadata": {},
   "outputs": [],
   "source": [
    "fp.close()"
   ]
  },
  {
   "cell_type": "code",
   "execution_count": 32,
   "metadata": {},
   "outputs": [],
   "source": [
    "fp = open('sample2.txt','w+')"
   ]
  },
  {
   "cell_type": "code",
   "execution_count": 33,
   "metadata": {},
   "outputs": [
    {
     "data": {
      "text/plain": [
       "0"
      ]
     },
     "execution_count": 33,
     "metadata": {},
     "output_type": "execute_result"
    }
   ],
   "source": [
    "fp.tell()"
   ]
  },
  {
   "cell_type": "code",
   "execution_count": 34,
   "metadata": {},
   "outputs": [
    {
     "data": {
      "text/plain": [
       "''"
      ]
     },
     "execution_count": 34,
     "metadata": {},
     "output_type": "execute_result"
    }
   ],
   "source": [
    "fp.read()"
   ]
  },
  {
   "cell_type": "code",
   "execution_count": 35,
   "metadata": {},
   "outputs": [
    {
     "data": {
      "text/plain": [
       "5"
      ]
     },
     "execution_count": 35,
     "metadata": {},
     "output_type": "execute_result"
    }
   ],
   "source": [
    "fp.write('Magic')"
   ]
  },
  {
   "cell_type": "code",
   "execution_count": 36,
   "metadata": {},
   "outputs": [
    {
     "data": {
      "text/plain": [
       "5"
      ]
     },
     "execution_count": 36,
     "metadata": {},
     "output_type": "execute_result"
    }
   ],
   "source": [
    "fp.tell()"
   ]
  },
  {
   "cell_type": "code",
   "execution_count": 37,
   "metadata": {},
   "outputs": [
    {
     "data": {
      "text/plain": [
       "0"
      ]
     },
     "execution_count": 37,
     "metadata": {},
     "output_type": "execute_result"
    }
   ],
   "source": [
    "fp.seek(0)"
   ]
  },
  {
   "cell_type": "code",
   "execution_count": 38,
   "metadata": {},
   "outputs": [
    {
     "data": {
      "text/plain": [
       "'Magic'"
      ]
     },
     "execution_count": 38,
     "metadata": {},
     "output_type": "execute_result"
    }
   ],
   "source": [
    "fp.read()"
   ]
  },
  {
   "cell_type": "code",
   "execution_count": 39,
   "metadata": {},
   "outputs": [
    {
     "data": {
      "text/plain": [
       "0"
      ]
     },
     "execution_count": 39,
     "metadata": {},
     "output_type": "execute_result"
    }
   ],
   "source": [
    "fp.seek(0)"
   ]
  },
  {
   "cell_type": "code",
   "execution_count": 40,
   "metadata": {},
   "outputs": [
    {
     "data": {
      "text/plain": [
       "'Mag'"
      ]
     },
     "execution_count": 40,
     "metadata": {},
     "output_type": "execute_result"
    }
   ],
   "source": [
    "fp.read(3)"
   ]
  },
  {
   "cell_type": "code",
   "execution_count": 41,
   "metadata": {},
   "outputs": [
    {
     "data": {
      "text/plain": [
       "3"
      ]
     },
     "execution_count": 41,
     "metadata": {},
     "output_type": "execute_result"
    }
   ],
   "source": [
    "fp.tell()"
   ]
  },
  {
   "cell_type": "code",
   "execution_count": null,
   "metadata": {},
   "outputs": [],
   "source": [
    "fp.readline() => read one line and move the fp to next line.\n",
    "fp.readlines() => gonna read all the lines and put them in a list."
   ]
  },
  {
   "cell_type": "markdown",
   "metadata": {},
   "source": [
    "# Regular Expressions"
   ]
  },
  {
   "cell_type": "code",
   "execution_count": null,
   "metadata": {},
   "outputs": [],
   "source": [
    "What is re?\n",
    "It is a String containing some rules to match or define particular pattern.\n",
    "Everything around re is put inside a module in python named as re."
   ]
  },
  {
   "cell_type": "code",
   "execution_count": null,
   "metadata": {},
   "outputs": [],
   "source": [
    "USES of re\n",
    "-> Pattern Validation\n",
    "-> Pattern Extraction\n",
    "-> String Matching and finding"
   ]
  },
  {
   "cell_type": "code",
   "execution_count": null,
   "metadata": {},
   "outputs": [],
   "source": [
    "## Metacharacters\n",
    "\n",
    ". (dot) => matches with all the char(alphabets,digits,special symols,etc) except\n",
    "the new line character('\\n')\n",
    "single dot means single char and char could be anything as mentioned above.\n",
    "\n",
    "[] => Character Class. A set of chars\n",
    "[A-Z] => all the capital alphabets from A TO Z (single occurence)\n",
    "[a-z] => all the lowecase ones.\n",
    "[0-9] => all the digits single occurence.\n",
    "[A-Za-z] => both lowecase and uppercase.\n",
    "[@#Mt] => either @,#,M or t\n",
    "[a-z0-9] => all lower and digits\n",
    " \n",
    "Quantifiers:\n",
    " + => atleast 1 or more occurence (for example [0-9]+ means that it is going \n",
    "to match a single digit or more than 1 digit)\n",
    " * => 0 or more occurence (for example [0-9]* means that it is going to \n",
    "match nothing or more than 0 occurence of a digit.)\n",
    " \n",
    " do we have '[0-9]*' in 'apple'? Yes\n",
    " \n",
    " ? => Optinal (once or not at all) (for example [0-9]? means that a digit\n",
    "will appear either 0 or 1 times.)\n",
    " \n",
    "Anchors:\n",
    " ^ => start of the string\n",
    " $ => end of the string\n",
    " \n",
    " \n",
    "{} => counting stuff\n",
    " \n",
    "[a-z]{2} => 2 times exactly\n",
    "[0-9]{3} => exactly 3 times\n",
    "[A-Z]{3,5} => should occur either 3,4 or 5 times.\n",
    " \n",
    "\n",
    "^ => compliment (reversal)\n",
    " \n",
    "[^0-9] => everything except no from 0-9 will be a match.\n",
    " \n",
    "# Only 9 metacharacters are in this list."
   ]
  },
  {
   "cell_type": "code",
   "execution_count": 42,
   "metadata": {},
   "outputs": [],
   "source": [
    "import re"
   ]
  },
  {
   "cell_type": "code",
   "execution_count": null,
   "metadata": {},
   "outputs": [],
   "source": [
    "# re.search(REGX,STRING_in_which_we_want_search_the_pattern)\n",
    "# re.search matches the first pattern according to the REGX and returns a\n",
    "# match object"
   ]
  },
  {
   "cell_type": "code",
   "execution_count": 44,
   "metadata": {},
   "outputs": [
    {
     "name": "stdout",
     "output_type": "stream",
     "text": [
      "<re.Match object; span=(0, 1), match='8'>\n"
     ]
    }
   ],
   "source": [
    "regx = '.'\n",
    "\n",
    "print(re.search(regx,'899\\n'))"
   ]
  },
  {
   "cell_type": "code",
   "execution_count": null,
   "metadata": {},
   "outputs": [],
   "source": [
    "# re.find_all(REGX,STRING_in_which_we_want_search_the_pattern)\n",
    "# re.find all , it returns all the matches in a list."
   ]
  },
  {
   "cell_type": "code",
   "execution_count": 47,
   "metadata": {},
   "outputs": [
    {
     "name": "stdout",
     "output_type": "stream",
     "text": [
      "['8', '9', '9']\n"
     ]
    }
   ],
   "source": [
    "regx = '.'\n",
    "\n",
    "print(re.findall(regx,'899\\n'))"
   ]
  },
  {
   "cell_type": "code",
   "execution_count": 48,
   "metadata": {},
   "outputs": [
    {
     "name": "stdout",
     "output_type": "stream",
     "text": [
      "<re.Match object; span=(0, 3), match='899'>\n"
     ]
    }
   ],
   "source": [
    "regx = '...'\n",
    "\n",
    "print(re.search(regx,'899\\n'))"
   ]
  },
  {
   "cell_type": "code",
   "execution_count": 49,
   "metadata": {},
   "outputs": [
    {
     "name": "stdout",
     "output_type": "stream",
     "text": [
      "<re.Match object; span=(0, 3), match='8K9'>\n"
     ]
    }
   ],
   "source": [
    "regx = '...'\n",
    "\n",
    "print(re.search(regx,'8K99\\n'))"
   ]
  },
  {
   "cell_type": "code",
   "execution_count": 50,
   "metadata": {},
   "outputs": [
    {
     "name": "stdout",
     "output_type": "stream",
     "text": [
      "None\n"
     ]
    }
   ],
   "source": [
    "regx = '...'\n",
    "\n",
    "print(re.search(regx,'8K\\n'))\n",
    "\n",
    "# password should contain minimum 8 digits. \n",
    "# you give it 7 digit only?"
   ]
  },
  {
   "cell_type": "code",
   "execution_count": 51,
   "metadata": {},
   "outputs": [
    {
     "name": "stdout",
     "output_type": "stream",
     "text": [
      "<re.Match object; span=(0, 1), match='8'>\n"
     ]
    }
   ],
   "source": [
    "regx = '[0-9]'\n",
    "\n",
    "print(re.search(regx,'8K99\\n'))"
   ]
  },
  {
   "cell_type": "code",
   "execution_count": 52,
   "metadata": {},
   "outputs": [
    {
     "name": "stdout",
     "output_type": "stream",
     "text": [
      "<re.Match object; span=(1, 3), match='K9'>\n"
     ]
    }
   ],
   "source": [
    "regx = '.[0-9]'\n",
    "## first thing should be a character(digit,no,special,etc) followed by a digit\n",
    "print(re.search(regx,'8K99\\n'))"
   ]
  },
  {
   "cell_type": "code",
   "execution_count": 54,
   "metadata": {},
   "outputs": [
    {
     "name": "stdout",
     "output_type": "stream",
     "text": [
      "<re.Match object; span=(0, 2), match='58'>\n"
     ]
    }
   ],
   "source": [
    "regx = '.[0-9]'\n",
    "## first thing should be a character(digit,no,special,etc) followed by a digit\n",
    "print(re.search(regx,'58K99\\n'))"
   ]
  },
  {
   "cell_type": "code",
   "execution_count": 53,
   "metadata": {},
   "outputs": [
    {
     "name": "stdout",
     "output_type": "stream",
     "text": [
      "<re.Match object; span=(0, 3), match='8K9'>\n"
     ]
    }
   ],
   "source": [
    "regx = '..[0-9]'\n",
    "## first thing should be 2 character(digit,no,special,etc) followed by a digit\n",
    "print(re.search(regx,'8K99\\n'))"
   ]
  },
  {
   "cell_type": "code",
   "execution_count": 55,
   "metadata": {},
   "outputs": [
    {
     "name": "stdout",
     "output_type": "stream",
     "text": [
      "None\n"
     ]
    }
   ],
   "source": [
    "regx = '..[A-Z]'\n",
    "print(re.search(regx,'8K99\\n'))"
   ]
  },
  {
   "cell_type": "code",
   "execution_count": 56,
   "metadata": {},
   "outputs": [
    {
     "name": "stdout",
     "output_type": "stream",
     "text": [
      "<re.Match object; span=(0, 3), match='8MK'>\n"
     ]
    }
   ],
   "source": [
    "regx = '..[A-Z]'\n",
    "print(re.search(regx,'8MK99\\n'))"
   ]
  },
  {
   "cell_type": "code",
   "execution_count": 57,
   "metadata": {},
   "outputs": [
    {
     "name": "stdout",
     "output_type": "stream",
     "text": [
      "<re.Match object; span=(0, 3), match='8MK'>\n"
     ]
    }
   ],
   "source": [
    "regx = '[0-9]..'\n",
    "print(re.search(regx,'8MK99\\n'))"
   ]
  },
  {
   "cell_type": "code",
   "execution_count": 58,
   "metadata": {},
   "outputs": [
    {
     "name": "stdout",
     "output_type": "stream",
     "text": [
      "None\n"
     ]
    }
   ],
   "source": [
    "regx = '..[0-9]..'\n",
    "print(re.search(regx,'8MK99\\n'))"
   ]
  },
  {
   "cell_type": "code",
   "execution_count": 60,
   "metadata": {},
   "outputs": [
    {
     "name": "stdout",
     "output_type": "stream",
     "text": [
      "<re.Match object; span=(0, 5), match='8M199'>\n"
     ]
    }
   ],
   "source": [
    "regx = '..[0-9]..'\n",
    "print(re.search(regx,'8M199\\n'))"
   ]
  },
  {
   "cell_type": "code",
   "execution_count": 61,
   "metadata": {},
   "outputs": [
    {
     "name": "stdout",
     "output_type": "stream",
     "text": [
      "<re.Match object; span=(0, 3), match='8M1'>\n"
     ]
    }
   ],
   "source": [
    "regx = '..[A-Za-z0-9]'\n",
    "print(re.search(regx,'8M199\\n'))"
   ]
  },
  {
   "cell_type": "code",
   "execution_count": 62,
   "metadata": {},
   "outputs": [
    {
     "name": "stdout",
     "output_type": "stream",
     "text": [
      "<re.Match object; span=(0, 5), match='8M199'>\n"
     ]
    }
   ],
   "source": [
    "regx = '..[A-Za-z0-9]..'\n",
    "print(re.search(regx,'8M199\\n'))"
   ]
  },
  {
   "cell_type": "code",
   "execution_count": 63,
   "metadata": {},
   "outputs": [
    {
     "name": "stdout",
     "output_type": "stream",
     "text": [
      "None\n"
     ]
    }
   ],
   "source": [
    "regx = '..[@3#78sP]..'\n",
    "print(re.search(regx,'8M199\\n'))"
   ]
  },
  {
   "cell_type": "code",
   "execution_count": 64,
   "metadata": {},
   "outputs": [
    {
     "name": "stdout",
     "output_type": "stream",
     "text": [
      "<re.Match object; span=(0, 5), match='8M@99'>\n"
     ]
    }
   ],
   "source": [
    "regx = '..[@3#78sP]..'\n",
    "print(re.search(regx,'8M@99\\n'))\n",
    "# 1 to one of the 7 things in character class"
   ]
  },
  {
   "cell_type": "code",
   "execution_count": 65,
   "metadata": {},
   "outputs": [
    {
     "name": "stdout",
     "output_type": "stream",
     "text": [
      "<re.Match object; span=(0, 5), match='8MP99'>\n"
     ]
    }
   ],
   "source": [
    "regx = '..[@3#78sP]..'\n",
    "print(re.search(regx,'8MP99\\n'))\n",
    "# 1 to one of the 7 things in character class"
   ]
  },
  {
   "cell_type": "code",
   "execution_count": 66,
   "metadata": {},
   "outputs": [
    {
     "name": "stdout",
     "output_type": "stream",
     "text": [
      "None\n"
     ]
    }
   ],
   "source": [
    "regx = '..[@3#78sP]..'\n",
    "print(re.search(regx,'8Ma99\\n'))\n",
    "# 1 to one of the 7 things in character class"
   ]
  },
  {
   "cell_type": "code",
   "execution_count": 68,
   "metadata": {},
   "outputs": [
    {
     "name": "stdout",
     "output_type": "stream",
     "text": [
      "<re.Match object; span=(0, 42), match='8Ma@#%#$^#$%$%#$dsjidfsljdfsj3480934898999'>\n"
     ]
    }
   ],
   "source": [
    "regx = '.*'\n",
    "print(re.search(regx,'8Ma@#%#$^#$%$%#$dsjidfsljdfsj3480934898999\\n'))"
   ]
  },
  {
   "cell_type": "code",
   "execution_count": 69,
   "metadata": {},
   "outputs": [
    {
     "name": "stdout",
     "output_type": "stream",
     "text": [
      "<re.Match object; span=(0, 0), match=''>\n"
     ]
    }
   ],
   "source": [
    "regx = '[a-z]*'\n",
    "print(re.search(regx,'8Ma@#%#$^#$%$%#$dsjidfsljdfsj3480934898999\\n'))"
   ]
  },
  {
   "cell_type": "code",
   "execution_count": 70,
   "metadata": {},
   "outputs": [
    {
     "name": "stdout",
     "output_type": "stream",
     "text": [
      "['', '', 'a', '', '', '', '', '', '', '', '', '', '', '', '', '', 'dsjidfsljdfsj', '', '', '', '', '', '', '', '', '', '', '', '', '', '', '']\n"
     ]
    }
   ],
   "source": [
    "regx = '[a-z]*'\n",
    "print(re.findall(regx,'8Ma@#%#$^#$%$%#$dsjidfsljdfsj3480934898999\\n'))"
   ]
  },
  {
   "cell_type": "code",
   "execution_count": 71,
   "metadata": {},
   "outputs": [
    {
     "data": {
      "text/plain": [
       "43"
      ]
     },
     "execution_count": 71,
     "metadata": {},
     "output_type": "execute_result"
    }
   ],
   "source": [
    "len('8Ma@#%#$^#$%$%#$dsjidfsljdfsj3480934898999\\n')"
   ]
  },
  {
   "cell_type": "code",
   "execution_count": 76,
   "metadata": {},
   "outputs": [
    {
     "data": {
      "text/plain": [
       "32"
      ]
     },
     "execution_count": 76,
     "metadata": {},
     "output_type": "execute_result"
    }
   ],
   "source": [
    "len(re.findall(regx,'8Ma@#%#$^#$%$%#$dsjidfsljdfsj3480934898999\\n'))"
   ]
  },
  {
   "cell_type": "code",
   "execution_count": 73,
   "metadata": {},
   "outputs": [
    {
     "data": {
      "text/plain": [
       "13"
      ]
     },
     "execution_count": 73,
     "metadata": {},
     "output_type": "execute_result"
    }
   ],
   "source": [
    "len('dsjidfsljdfsj')"
   ]
  },
  {
   "cell_type": "code",
   "execution_count": 2,
   "metadata": {},
   "outputs": [
    {
     "name": "stdout",
     "output_type": "stream",
     "text": [
      "<re.Match object; span=(2, 3), match='a'>\n"
     ]
    }
   ],
   "source": [
    "import re\n",
    "regx = '[a-z]+'\n",
    "print(re.search(regx,'8Ma@#%#$^#$%$%#$dsjidfsljdfsj3480934898999\\n'))"
   ]
  },
  {
   "cell_type": "code",
   "execution_count": 3,
   "metadata": {},
   "outputs": [
    {
     "data": {
      "text/plain": [
       "'a'"
      ]
     },
     "execution_count": 3,
     "metadata": {},
     "output_type": "execute_result"
    }
   ],
   "source": [
    "x = '8Ma@#%#$^#$%$%#$dsjidfsljdfsj3480934898999\\n'\n",
    "x[2:3]"
   ]
  },
  {
   "cell_type": "code",
   "execution_count": 4,
   "metadata": {},
   "outputs": [
    {
     "name": "stdout",
     "output_type": "stream",
     "text": [
      "<re.Match object; span=(15, 28), match='dsjidfsljdfsj'>\n"
     ]
    }
   ],
   "source": [
    "import re\n",
    "regx = '[a-z]+'\n",
    "print(re.search(regx,'8M@#%#$^#$%$%#$dsjidfsljdfsj3480934898999\\n'))"
   ]
  },
  {
   "cell_type": "code",
   "execution_count": 5,
   "metadata": {},
   "outputs": [
    {
     "data": {
      "text/plain": [
       "'dsjidfsljdfsj'"
      ]
     },
     "execution_count": 5,
     "metadata": {},
     "output_type": "execute_result"
    }
   ],
   "source": [
    "x = '8M@#%#$^#$%$%#$dsjidfsljdfsj3480934898999\\n'\n",
    "x[15:28]"
   ]
  },
  {
   "cell_type": "code",
   "execution_count": 78,
   "metadata": {},
   "outputs": [
    {
     "name": "stdout",
     "output_type": "stream",
     "text": [
      "['a', 'dsjidfsljdfsj']\n"
     ]
    }
   ],
   "source": [
    "regx = '[a-z]+'\n",
    "print(re.findall(regx,'8Ma@#%#$^#$%$%#$dsjidfsljdfsj3480934898999\\n'))"
   ]
  },
  {
   "cell_type": "code",
   "execution_count": 79,
   "metadata": {},
   "outputs": [
    {
     "name": "stdout",
     "output_type": "stream",
     "text": [
      "['', '', 'a', '', '', '', '', '', '', '', '', '', '', '', '', '', '', '', '', '', '', '', '', '', '', '', '', '', '', '', '', '', '', '', '', '', '', '', '', '', '', '', '', '']\n"
     ]
    }
   ],
   "source": [
    "regx = '[a]*'\n",
    "print(re.findall(regx,'8Ma@#%#$^#$%$%#$dsjidfsljdfsj3480934898999\\n'))"
   ]
  },
  {
   "cell_type": "code",
   "execution_count": 80,
   "metadata": {},
   "outputs": [
    {
     "data": {
      "text/plain": [
       "44"
      ]
     },
     "execution_count": 80,
     "metadata": {},
     "output_type": "execute_result"
    }
   ],
   "source": [
    "len(re.findall(regx,'8Ma@#%#$^#$%$%#$dsjidfsljdfsj3480934898999\\n'))"
   ]
  },
  {
   "cell_type": "code",
   "execution_count": 81,
   "metadata": {},
   "outputs": [
    {
     "data": {
      "text/plain": [
       "43"
      ]
     },
     "execution_count": 81,
     "metadata": {},
     "output_type": "execute_result"
    }
   ],
   "source": [
    "len('8Ma@#%#$^#$%$%#$dsjidfsljdfsj3480934898999\\n')"
   ]
  },
  {
   "cell_type": "code",
   "execution_count": 82,
   "metadata": {},
   "outputs": [
    {
     "name": "stdout",
     "output_type": "stream",
     "text": [
      "['a', 'dsjidfsljdfsj']\n"
     ]
    }
   ],
   "source": [
    "regx = '[a-z]+'\n",
    "print(re.findall(regx,'8Ma@#%#$^#$%$%#$dsjidfsljdfsj3480934898999\\n'))"
   ]
  },
  {
   "cell_type": "code",
   "execution_count": 83,
   "metadata": {},
   "outputs": [
    {
     "name": "stdout",
     "output_type": "stream",
     "text": [
      "['a']\n"
     ]
    }
   ],
   "source": [
    "regx = '[a]+'\n",
    "print(re.findall(regx,'8Ma@#%#$^#$%$%#$dsjidfsljdfsj3480934898999\\n'))"
   ]
  },
  {
   "cell_type": "code",
   "execution_count": 84,
   "metadata": {},
   "outputs": [
    {
     "name": "stdout",
     "output_type": "stream",
     "text": [
      "['', '', 'a', '', '', '', '', '', '', '', '', '', '', '', '', '', '', '', '', '', '', '', '', '', '', '', '', '', '', '', '', '', '', '', '', '', '', '', '', '', '', '', '', '']\n"
     ]
    }
   ],
   "source": [
    "regx = '[a]?'\n",
    "print(re.findall(regx,'8Ma@#%#$^#$%$%#$dsjidfsljdfsj3480934898999\\n'))"
   ]
  },
  {
   "cell_type": "code",
   "execution_count": 86,
   "metadata": {},
   "outputs": [
    {
     "name": "stdout",
     "output_type": "stream",
     "text": [
      "['', '', 'aa', '', '', '', '', '', '', '', '', '', '', '', '', '', '', '', '', '', '', '', '', '', '', '', '', '', '', '', '', '', '', '', '', '', '', '', '', '', '', '', '', '']\n"
     ]
    }
   ],
   "source": [
    "regx = '[a]*'\n",
    "print(re.findall(regx,'8Maa@#%#$^#$%$%#$dsjidfsljdfsj3480934898999\\n'))"
   ]
  },
  {
   "cell_type": "code",
   "execution_count": 87,
   "metadata": {},
   "outputs": [
    {
     "name": "stdout",
     "output_type": "stream",
     "text": [
      "['', '', 'a', 'a', '', '', '', '', '', '', '', '', '', '', '', '', '', '', '', '', '', '', '', '', '', '', '', '', '', '', '', '', '', '', '', '', '', '', '', '', '', '', '', '', '']\n"
     ]
    }
   ],
   "source": [
    "regx = '[a]?'\n",
    "print(re.findall(regx,'8Maa@#%#$^#$%$%#$dsjidfsljdfsj3480934898999\\n'))"
   ]
  },
  {
   "cell_type": "code",
   "execution_count": null,
   "metadata": {},
   "outputs": [],
   "source": []
  }
 ],
 "metadata": {
  "kernelspec": {
   "display_name": "Python 3",
   "language": "python",
   "name": "python3"
  },
  "language_info": {
   "codemirror_mode": {
    "name": "ipython",
    "version": 3
   },
   "file_extension": ".py",
   "mimetype": "text/x-python",
   "name": "python",
   "nbconvert_exporter": "python",
   "pygments_lexer": "ipython3",
   "version": "3.8.3"
  }
 },
 "nbformat": 4,
 "nbformat_minor": 4
}

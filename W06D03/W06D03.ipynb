{
 "cells": [
  {
   "cell_type": "code",
   "execution_count": 8,
   "metadata": {},
   "outputs": [
    {
     "name": "stdout",
     "output_type": "stream",
     "text": [
      "Initial fp position 0\n",
      "Now fp poition  13\n",
      "** \n",
      "13\n"
     ]
    }
   ],
   "source": [
    "with open('sample.txt','w+') as fp:\n",
    "    print('Initial fp position',fp.tell())\n",
    "    fp.write('Mango is good')\n",
    "    print('Now fp poition ',fp.tell())\n",
    "    print('**',fp.read())\n",
    "    fp.seek(fp.tell()-8,0)\n",
    "    fp.seek(0,2)\n",
    "    print(fp.tell())"
   ]
  },
  {
   "cell_type": "code",
   "execution_count": null,
   "metadata": {},
   "outputs": [],
   "source": [
    "fp.seek(offset,position)\n",
    "fp.seek(offset,0)\n",
    "fp.seek(0,2) => Move to the end of the file."
   ]
  },
  {
   "cell_type": "code",
   "execution_count": null,
   "metadata": {},
   "outputs": [],
   "source": [
    "Which of the following define the set {'a', 'b', 'c'}:"
   ]
  },
  {
   "cell_type": "code",
   "execution_count": null,
   "metadata": {},
   "outputs": [],
   "source": []
  }
 ],
 "metadata": {
  "kernelspec": {
   "display_name": "Python 3",
   "language": "python",
   "name": "python3"
  },
  "language_info": {
   "codemirror_mode": {
    "name": "ipython",
    "version": 3
   },
   "file_extension": ".py",
   "mimetype": "text/x-python",
   "name": "python",
   "nbconvert_exporter": "python",
   "pygments_lexer": "ipython3",
   "version": "3.8.3"
  }
 },
 "nbformat": 4,
 "nbformat_minor": 4
}

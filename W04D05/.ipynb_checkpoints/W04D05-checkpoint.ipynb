{
 "cells": [
  {
   "cell_type": "code",
   "execution_count": null,
   "metadata": {},
   "outputs": [],
   "source": [
    "Q1) Write a fun which will take a No (only int) and print wheter that no is odd\n",
    "or even\n",
    "\n",
    "Q2) Write a fun which will take a list of no(only int) and return a list which\n",
    "contains 'odd' corresponding to the odd element, 'even' corresponding to the\n",
    "even element.\n",
    "\n",
    "input to fun => [1,2,3,44,54,6]\n",
    "output => ['odd','even','odd','even','even','even']\n",
    "\n",
    "input to fun => [1,2]\n",
    "output to fun=> ['odd','even']\n",
    "\n",
    "Q3) 'Pythonist 2$' → 'pYTHONIST 2$'\n",
    "Swapping Case"
   ]
  },
  {
   "cell_type": "code",
   "execution_count": 14,
   "metadata": {},
   "outputs": [
    {
     "name": "stdout",
     "output_type": "stream",
     "text": [
      "even\n",
      "odd\n",
      "odd\n"
     ]
    }
   ],
   "source": [
    "def fun1(no):\n",
    "    if no%2==0:\n",
    "        print('even')\n",
    "    else:\n",
    "        print('odd')\n",
    "        \n",
    "fun1(34)\n",
    "fun1(27)\n",
    "fun1(143)"
   ]
  },
  {
   "cell_type": "code",
   "execution_count": 15,
   "metadata": {},
   "outputs": [
    {
     "data": {
      "text/plain": [
       "['odd', 'even', 'odd', 'even', 'even', 'even']"
      ]
     },
     "execution_count": 15,
     "metadata": {},
     "output_type": "execute_result"
    }
   ],
   "source": [
    "def fun2(x):\n",
    "    y = []\n",
    "    for no in x:\n",
    "        if no%2==0:\n",
    "            y.append('even')\n",
    "        else:\n",
    "            y.append('odd')\n",
    "    return y\n",
    "\n",
    "fun2([1,2,3,44,54,6])"
   ]
  },
  {
   "cell_type": "code",
   "execution_count": 19,
   "metadata": {},
   "outputs": [
    {
     "data": {
      "text/plain": [
       "'pYTHONIST 2$'"
      ]
     },
     "execution_count": 19,
     "metadata": {},
     "output_type": "execute_result"
    }
   ],
   "source": [
    "# 'Pythonist 2$' → 'pYTHONIST 2$'\n",
    "def fun3(string1):\n",
    "    string2 = ''\n",
    "    for char in string1:\n",
    "        if char.isalpha():\n",
    "            if char.isupper():\n",
    "                string2 = string2 + char.lower()\n",
    "            else:\n",
    "                string2 = string2 + char.upper()\n",
    "        else:\n",
    "            string2 = string2 + char\n",
    "    return string2\n",
    "\n",
    "fun3('Pythonist 2$')"
   ]
  },
  {
   "cell_type": "code",
   "execution_count": 20,
   "metadata": {},
   "outputs": [
    {
     "data": {
      "text/plain": [
       "'AppX'"
      ]
     },
     "execution_count": 20,
     "metadata": {},
     "output_type": "execute_result"
    }
   ],
   "source": [
    "fun3('aPPx')"
   ]
  },
  {
   "cell_type": "code",
   "execution_count": 17,
   "metadata": {},
   "outputs": [
    {
     "data": {
      "text/plain": [
       "True"
      ]
     },
     "execution_count": 17,
     "metadata": {},
     "output_type": "execute_result"
    }
   ],
   "source": [
    "'a'.isalpha()"
   ]
  },
  {
   "cell_type": "code",
   "execution_count": 16,
   "metadata": {},
   "outputs": [
    {
     "data": {
      "text/plain": [
       "['odd', 'odd', 'odd', 'odd', 'odd', 'odd', 'odd']"
      ]
     },
     "execution_count": 16,
     "metadata": {},
     "output_type": "execute_result"
    }
   ],
   "source": [
    "fun2([11,11,1,1,1,1,1])"
   ]
  },
  {
   "cell_type": "code",
   "execution_count": 3,
   "metadata": {},
   "outputs": [],
   "source": [
    "def x():\n",
    "    return 'Happy'"
   ]
  },
  {
   "cell_type": "code",
   "execution_count": 6,
   "metadata": {},
   "outputs": [],
   "source": [
    "y = x()"
   ]
  },
  {
   "cell_type": "code",
   "execution_count": 7,
   "metadata": {},
   "outputs": [
    {
     "name": "stdout",
     "output_type": "stream",
     "text": [
      "Happy\n"
     ]
    }
   ],
   "source": [
    "print(y)"
   ]
  },
  {
   "cell_type": "code",
   "execution_count": 8,
   "metadata": {},
   "outputs": [],
   "source": [
    "def x():\n",
    "    l = [1,2,3]\n",
    "    return l"
   ]
  },
  {
   "cell_type": "code",
   "execution_count": 10,
   "metadata": {},
   "outputs": [],
   "source": [
    "t = x()"
   ]
  },
  {
   "cell_type": "code",
   "execution_count": 11,
   "metadata": {},
   "outputs": [
    {
     "name": "stdout",
     "output_type": "stream",
     "text": [
      "[1, 2, 3]\n"
     ]
    }
   ],
   "source": [
    "print(t)"
   ]
  },
  {
   "cell_type": "code",
   "execution_count": null,
   "metadata": {},
   "outputs": [],
   "source": [
    "def finder(x):\n",
    "    if x%2==0:\n",
    "        print('Number is Even')\n",
    "    else:\n",
    "        print('Number is Odd')"
   ]
  },
  {
   "cell_type": "code",
   "execution_count": null,
   "metadata": {},
   "outputs": [],
   "source": [
    "Arguments Vs Parameters\n",
    "\n",
    "Parameters are names listed in functions definition\n",
    "Argumentss are the real values which are passed when calling that fun.\n",
    "\n",
    "def fun4(a,b,prashant,krishnakant):\n",
    "    blah blah\n",
    "    \n",
    "a,b,prashant,krishnakant are Parameters\n",
    "\n",
    "fun4('apple',34,'Married','Working in Virgin Mobile')\n",
    "\n",
    "'apple',34,'Married','Working in Virgin Mobile' are Arguments."
   ]
  },
  {
   "cell_type": "markdown",
   "metadata": {},
   "source": [
    "# Parameter Passing Techniques"
   ]
  },
  {
   "cell_type": "markdown",
   "metadata": {},
   "source": [
    "1) Default Arguments"
   ]
  },
  {
   "cell_type": "code",
   "execution_count": 25,
   "metadata": {},
   "outputs": [],
   "source": [
    "AbsentiesList = []\n",
    "def rollCall(x='Absent'):\n",
    "    if x == 'Absent':\n",
    "        AbsentiesList.append('Absent')"
   ]
  },
  {
   "cell_type": "code",
   "execution_count": 26,
   "metadata": {},
   "outputs": [],
   "source": [
    "rollCall('Present')"
   ]
  },
  {
   "cell_type": "code",
   "execution_count": 27,
   "metadata": {},
   "outputs": [
    {
     "data": {
      "text/plain": [
       "[]"
      ]
     },
     "execution_count": 27,
     "metadata": {},
     "output_type": "execute_result"
    }
   ],
   "source": [
    "AbsentiesList"
   ]
  },
  {
   "cell_type": "code",
   "execution_count": 28,
   "metadata": {},
   "outputs": [],
   "source": [
    "rollCall()"
   ]
  },
  {
   "cell_type": "code",
   "execution_count": 29,
   "metadata": {},
   "outputs": [
    {
     "data": {
      "text/plain": [
       "['Absent']"
      ]
     },
     "execution_count": 29,
     "metadata": {},
     "output_type": "execute_result"
    }
   ],
   "source": [
    "AbsentiesList"
   ]
  },
  {
   "cell_type": "code",
   "execution_count": 30,
   "metadata": {},
   "outputs": [],
   "source": [
    "AbsentiesList = []\n",
    "def rollCall(name,x='Absent'):\n",
    "    if x == 'Absent':\n",
    "        AbsentiesList.append(name)"
   ]
  },
  {
   "cell_type": "code",
   "execution_count": 31,
   "metadata": {},
   "outputs": [],
   "source": [
    "for student in [('Pavan','Absent'),('Mayank','Present'),('Rahul','Absent')]:\n",
    "    rollCall(student[0])"
   ]
  },
  {
   "cell_type": "code",
   "execution_count": 32,
   "metadata": {},
   "outputs": [
    {
     "data": {
      "text/plain": [
       "['Pavan', 'Mayank', 'Rahul']"
      ]
     },
     "execution_count": 32,
     "metadata": {},
     "output_type": "execute_result"
    }
   ],
   "source": [
    "AbsentiesList"
   ]
  },
  {
   "cell_type": "code",
   "execution_count": 33,
   "metadata": {},
   "outputs": [],
   "source": [
    "def happy(x='mango'):\n",
    "    print(x)"
   ]
  },
  {
   "cell_type": "code",
   "execution_count": 34,
   "metadata": {},
   "outputs": [
    {
     "name": "stdout",
     "output_type": "stream",
     "text": [
      "mango\n"
     ]
    }
   ],
   "source": [
    "happy()"
   ]
  },
  {
   "cell_type": "code",
   "execution_count": 36,
   "metadata": {},
   "outputs": [
    {
     "name": "stdout",
     "output_type": "stream",
     "text": [
      "orange\n"
     ]
    }
   ],
   "source": [
    "happy('orange')"
   ]
  },
  {
   "cell_type": "markdown",
   "metadata": {},
   "source": [
    "2) Named Arguments"
   ]
  },
  {
   "cell_type": "code",
   "execution_count": 37,
   "metadata": {},
   "outputs": [],
   "source": [
    "def happy(x,y):\n",
    "    print(x,y)"
   ]
  },
  {
   "cell_type": "code",
   "execution_count": 38,
   "metadata": {},
   "outputs": [
    {
     "name": "stdout",
     "output_type": "stream",
     "text": [
      "mango banana\n"
     ]
    }
   ],
   "source": [
    "happy(x='mango',y='banana')"
   ]
  },
  {
   "cell_type": "code",
   "execution_count": 39,
   "metadata": {},
   "outputs": [
    {
     "name": "stdout",
     "output_type": "stream",
     "text": [
      "mango banana\n"
     ]
    }
   ],
   "source": [
    "happy(y='banana',x='mango')"
   ]
  },
  {
   "cell_type": "code",
   "execution_count": null,
   "metadata": {},
   "outputs": [],
   "source": [
    "Revision:\n",
    "    Read about functions from the internet.\n",
    "    \n",
    "Gfg"
   ]
  }
 ],
 "metadata": {
  "kernelspec": {
   "display_name": "Python 3",
   "language": "python",
   "name": "python3"
  },
  "language_info": {
   "codemirror_mode": {
    "name": "ipython",
    "version": 3
   },
   "file_extension": ".py",
   "mimetype": "text/x-python",
   "name": "python",
   "nbconvert_exporter": "python",
   "pygments_lexer": "ipython3",
   "version": "3.8.3"
  }
 },
 "nbformat": 4,
 "nbformat_minor": 4
}
